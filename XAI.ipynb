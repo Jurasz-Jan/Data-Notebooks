{
  "cells": [
    {
      "cell_type": "markdown",
      "source": [
        "# Read this carefully\n",
        "The main goal of this exercise is to verify how understandable are explanations provided to the users in a form of rules.\n",
        "\n",
        "In this notebook we will explain a decision of a blackbox machine learning model (Neural Network). \n",
        "Such a model makes a proediction based on complext transformaiton of input into output. \n",
        "\n",
        "We are interested in two types of explanation:\n",
        "  * Regular explanation: Why instance X was classified as 0 or 1?\n",
        "  * Counterfactual explanations: What to do to instance X (how to modify it) to make it be classified as opposite class?\n",
        "\n",
        "To answer that question we train an interpretable in a local neighbourhood of X and use it to answer this questions.\n",
        "In our case, the interpretable model is a decision tree.\n",
        "\n",
        "In such a case we can answer the aforementioned quesitons using a tree in  following way:\n",
        "  * Take the instance X and classify it with a tree. The brranch that the instance was falling from the root to the leaf is the rule that explains why it was classified as 0 or 1\n",
        "  e.g. `{'f_1': ['< -0.5'], 'f_2': ['> 1.0']}` means that the X was classfied as 0 or one because value of `f_1` was less than `-0.5` and value of `f_2` was greater than `1`.\n",
        "  * Take an instance X and search for other branches in a tree which contain opposit classes. The branch that contain points which are closest to X is a branch that define a rule for counterfactual. For instance:  `{'f_1': ['< -0.5'], 'f_2': ['<= 1.0']}` means that any instance that satisties this rule is a counterfactual example for X.\n",
        "\n",
        "**Caution** Some of the explanations may not be valid - e.g. counterfactual can have the same explnanation as factual, which is incorrect! Pay attention to that! If it is not possible to give answer to a queation, leave it as **None**\n",
        "\n",
        "For instance if the explanation is: `{'f_1': ['< -0.5']}` and counterfactual is the same `{'f_1': ['< -0.5']}` than there is an error in explanation! If you are able to provide answers to the questions below despite that -- do it. If not, leave the answer as **None**. **In some cases it is possible to answer the questions despite the incorrect explanation!**\n"
      ],
      "metadata": {
        "id": "Flf0rRc1bMeB"
      }
    },
    {
      "cell_type": "code",
      "source": [
        "import warnings\n",
        "warnings.filterwarnings('ignore')"
      ],
      "metadata": {
        "id": "Dgly0OpVYaGn"
      },
      "execution_count": null,
      "outputs": []
    },
    {
      "cell_type": "code",
      "execution_count": null,
      "metadata": {
        "id": "5Zp9yN-R5DBq",
        "colab": {
          "base_uri": "https://localhost:8080/"
        },
        "outputId": "09415e20-a278-4a13-c38a-457bce58e5b4"
      },
      "outputs": [
        {
          "output_type": "stream",
          "name": "stdout",
          "text": [
            "Cloning into 'lux'...\n",
            "remote: Enumerating objects: 446, done.\u001b[K\n",
            "remote: Counting objects: 100% (148/148), done.\u001b[K\n",
            "remote: Compressing objects: 100% (82/82), done.\u001b[K\n",
            "remote: Total 446 (delta 100), reused 91 (delta 66), pack-reused 298\u001b[K\n",
            "Receiving objects: 100% (446/446), 95.47 MiB | 26.12 MiB/s, done.\n",
            "Resolving deltas: 100% (212/212), done.\n",
            "Looking in indexes: https://pypi.org/simple, https://us-python.pkg.dev/colab-wheels/public/simple/\n",
            "Collecting shap\n",
            "  Downloading shap-0.41.0-cp310-cp310-manylinux_2_12_x86_64.manylinux2010_x86_64.whl (572 kB)\n",
            "\u001b[2K     \u001b[90m━━━━━━━━━━━━━━━━━━━━━━━━━━━━━━━━━━━━━━\u001b[0m \u001b[32m572.6/572.6 kB\u001b[0m \u001b[31m23.7 MB/s\u001b[0m eta \u001b[36m0:00:00\u001b[0m\n",
            "\u001b[?25hCollecting gower\n",
            "  Downloading gower-0.1.2-py3-none-any.whl (5.2 kB)\n",
            "Requirement already satisfied: imbalanced-learn in /usr/local/lib/python3.10/dist-packages (0.10.1)\n",
            "Requirement already satisfied: numpy in /usr/local/lib/python3.10/dist-packages (from shap) (1.22.4)\n",
            "Requirement already satisfied: scipy in /usr/local/lib/python3.10/dist-packages (from shap) (1.10.1)\n",
            "Requirement already satisfied: scikit-learn in /usr/local/lib/python3.10/dist-packages (from shap) (1.2.2)\n",
            "Requirement already satisfied: pandas in /usr/local/lib/python3.10/dist-packages (from shap) (1.5.3)\n",
            "Requirement already satisfied: tqdm>4.25.0 in /usr/local/lib/python3.10/dist-packages (from shap) (4.65.0)\n",
            "Requirement already satisfied: packaging>20.9 in /usr/local/lib/python3.10/dist-packages (from shap) (23.1)\n",
            "Collecting slicer==0.0.7 (from shap)\n",
            "  Downloading slicer-0.0.7-py3-none-any.whl (14 kB)\n",
            "Requirement already satisfied: numba in /usr/local/lib/python3.10/dist-packages (from shap) (0.56.4)\n",
            "Requirement already satisfied: cloudpickle in /usr/local/lib/python3.10/dist-packages (from shap) (2.2.1)\n",
            "Requirement already satisfied: joblib>=1.1.1 in /usr/local/lib/python3.10/dist-packages (from imbalanced-learn) (1.2.0)\n",
            "Requirement already satisfied: threadpoolctl>=2.0.0 in /usr/local/lib/python3.10/dist-packages (from imbalanced-learn) (3.1.0)\n",
            "Requirement already satisfied: llvmlite<0.40,>=0.39.0dev0 in /usr/local/lib/python3.10/dist-packages (from numba->shap) (0.39.1)\n",
            "Requirement already satisfied: setuptools in /usr/local/lib/python3.10/dist-packages (from numba->shap) (67.7.2)\n",
            "Requirement already satisfied: python-dateutil>=2.8.1 in /usr/local/lib/python3.10/dist-packages (from pandas->shap) (2.8.2)\n",
            "Requirement already satisfied: pytz>=2020.1 in /usr/local/lib/python3.10/dist-packages (from pandas->shap) (2022.7.1)\n",
            "Requirement already satisfied: six>=1.5 in /usr/local/lib/python3.10/dist-packages (from python-dateutil>=2.8.1->pandas->shap) (1.16.0)\n",
            "Installing collected packages: slicer, gower, shap\n",
            "Successfully installed gower-0.1.2 shap-0.41.0 slicer-0.0.7\n"
          ]
        }
      ],
      "source": [
        "!git clone -b main --single-branch https://github.com/sbobek/lux.git\n",
        "!pip install shap gower imbalanced-learn"
      ]
    },
    {
      "cell_type": "code",
      "execution_count": null,
      "metadata": {
        "id": "TSho_ULLT9Vm",
        "colab": {
          "base_uri": "https://localhost:8080/"
        },
        "outputId": "91c45239-1ca0-433b-b2a4-2c218847f3d9"
      },
      "outputs": [
        {
          "output_type": "stream",
          "name": "stdout",
          "text": [
            "/content/lux\n",
            "Submodule 'pyuid3' (https://github.com/sbobek/pyuid3) registered for path 'pyuid3'\n",
            "Cloning into '/content/lux/pyuid3'...\n",
            "Submodule path 'pyuid3': checked out 'f57a86e66f647edef2828ef1954c9be559e12ea7'\n"
          ]
        }
      ],
      "source": [
        "%cd lux\n",
        "!git submodule update --init --recursive"
      ]
    },
    {
      "cell_type": "code",
      "source": [
        "!git clone https://github.com/sbobek/lux-human-survey.git\n",
        "!mv lux-human-survey/results ../results"
      ],
      "metadata": {
        "id": "TZahjJ4AT-VF",
        "colab": {
          "base_uri": "https://localhost:8080/"
        },
        "outputId": "e17abb77-0c37-4cc4-9808-b023bc5d2310"
      },
      "execution_count": null,
      "outputs": [
        {
          "output_type": "stream",
          "name": "stdout",
          "text": [
            "Cloning into 'lux-human-survey'...\n",
            "remote: Enumerating objects: 39, done.\u001b[K\n",
            "remote: Counting objects: 100% (39/39), done.\u001b[K\n",
            "remote: Compressing objects: 100% (28/28), done.\u001b[K\n",
            "remote: Total 39 (delta 10), reused 39 (delta 10), pack-reused 0\u001b[K\n",
            "Unpacking objects: 100% (39/39), 880.44 KiB | 3.95 MiB/s, done.\n"
          ]
        }
      ]
    },
    {
      "cell_type": "code",
      "source": [
        "%ls"
      ],
      "metadata": {
        "id": "GN_tLUFkV8VL",
        "colab": {
          "base_uri": "https://localhost:8080/"
        },
        "outputId": "1c2db573-762d-4dd7-ffea-36769916a196"
      },
      "execution_count": null,
      "outputs": [
        {
          "output_type": "stream",
          "name": "stdout",
          "text": [
            "\u001b[0m\u001b[01;34mdata\u001b[0m/               lux_comparison.ipynb               neighbourhood.png\n",
            "decbound-point.png  \u001b[01;34mlux-human-survey\u001b[0m/                  \u001b[01;34mpix\u001b[0m/\n",
            "explanations.png    lux_intuition_example.ipynb        \u001b[01;34mpyuid3\u001b[0m/\n",
            "hmrp.png            lux_neighborhood_generation.ipynb  README.md\n",
            "LICENSE             lux_usage_example.ipynb            requirements.txt\n",
            "\u001b[01;34mlux\u001b[0m/                lux_usage_example_shap.ipynb       utree.png\n"
          ]
        }
      ]
    },
    {
      "cell_type": "code",
      "execution_count": null,
      "metadata": {
        "id": "cpQkoCgp5pli"
      },
      "outputs": [],
      "source": [
        "import sklearn.datasets\n",
        "import pandas as pd\n",
        "import numpy as np\n",
        "from sklearn.neural_network import MLPClassifier\n",
        "from sklearn.ensemble import GradientBoostingClassifier\n",
        "from sklearn.model_selection import train_test_split\n",
        "from sklearn.metrics import accuracy_score, roc_curve, auc, confusion_matrix, classification_report\n",
        "from sklearn.neighbors import NearestNeighbors\n",
        "from lux.lux import LUX\n",
        "from numpy import random\n",
        "import pickle\n",
        "import os \n",
        "import graphviz\n",
        "from graphviz import Source\n",
        "from IPython.display import SVG, Image"
      ]
    },
    {
      "cell_type": "code",
      "execution_count": null,
      "metadata": {
        "id": "aDejCAB-5Q3q"
      },
      "outputs": [],
      "source": [
        "train = pd.read_csv('../results/train.csv')\n",
        "test = pd.read_csv('../results/test.csv')\n",
        "it2csv = pd.read_csv('../results/explain_samples.csv')\n",
        "clf = pickle.load(open('../results/clf.pickle','rb'))\n",
        "target = ['class']\n",
        "features = [f for f in train.columns if f not in target]\n",
        "    "
      ]
    },
    {
      "cell_type": "code",
      "execution_count": null,
      "metadata": {
        "id": "zUiJKzd8-5a-"
      },
      "outputs": [],
      "source": [
        "i2e = it2csv[features].values\n",
        "path = '../results'\n",
        "if not os.path.exists(path+'/exp_models/'):\n",
        "    print('ERROR')\n",
        "\n",
        "for idx2e in range(0, len(i2e)):\n",
        "    if not os.path.exists(path+f'/exp_models/mod_i2e_{idx2e}/'):\n",
        "        print('ERROR')\n",
        "    \n",
        "\n"
      ]
    },
    {
      "cell_type": "code",
      "source": [
        "import time\n",
        "start = time.time()"
      ],
      "metadata": {
        "id": "eWLN5R0IbR9U"
      },
      "execution_count": null,
      "outputs": []
    },
    {
      "cell_type": "markdown",
      "metadata": {
        "id": "y1OqMokGy-jQ"
      },
      "source": [
        "# Question 1\n",
        "You need to obtain explanation of a decision of a balckbox model for an instance below."
      ]
    },
    {
      "cell_type": "code",
      "execution_count": null,
      "metadata": {
        "id": "LO39qylmT9Vo",
        "colab": {
          "base_uri": "https://localhost:8080/",
          "height": 81
        },
        "outputId": "0c96549e-d224-4c04-8810-3d853bdc1c24"
      },
      "outputs": [
        {
          "output_type": "execute_result",
          "data": {
            "text/plain": [
              "        f_0       f_1       f_2       f_3       f_4       f_5       f_6  \\\n",
              "0 -0.566705 -1.793921  0.333625 -0.610432 -0.525247 -0.599821 -0.657135   \n",
              "\n",
              "        f_7  \n",
              "0 -0.334803  "
            ],
            "text/html": [
              "\n",
              "  <div id=\"df-932915a1-69c6-40cf-978b-34a1179e3535\">\n",
              "    <div class=\"colab-df-container\">\n",
              "      <div>\n",
              "<style scoped>\n",
              "    .dataframe tbody tr th:only-of-type {\n",
              "        vertical-align: middle;\n",
              "    }\n",
              "\n",
              "    .dataframe tbody tr th {\n",
              "        vertical-align: top;\n",
              "    }\n",
              "\n",
              "    .dataframe thead th {\n",
              "        text-align: right;\n",
              "    }\n",
              "</style>\n",
              "<table border=\"1\" class=\"dataframe\">\n",
              "  <thead>\n",
              "    <tr style=\"text-align: right;\">\n",
              "      <th></th>\n",
              "      <th>f_0</th>\n",
              "      <th>f_1</th>\n",
              "      <th>f_2</th>\n",
              "      <th>f_3</th>\n",
              "      <th>f_4</th>\n",
              "      <th>f_5</th>\n",
              "      <th>f_6</th>\n",
              "      <th>f_7</th>\n",
              "    </tr>\n",
              "  </thead>\n",
              "  <tbody>\n",
              "    <tr>\n",
              "      <th>0</th>\n",
              "      <td>-0.566705</td>\n",
              "      <td>-1.793921</td>\n",
              "      <td>0.333625</td>\n",
              "      <td>-0.610432</td>\n",
              "      <td>-0.525247</td>\n",
              "      <td>-0.599821</td>\n",
              "      <td>-0.657135</td>\n",
              "      <td>-0.334803</td>\n",
              "    </tr>\n",
              "  </tbody>\n",
              "</table>\n",
              "</div>\n",
              "      <button class=\"colab-df-convert\" onclick=\"convertToInteractive('df-932915a1-69c6-40cf-978b-34a1179e3535')\"\n",
              "              title=\"Convert this dataframe to an interactive table.\"\n",
              "              style=\"display:none;\">\n",
              "        \n",
              "  <svg xmlns=\"http://www.w3.org/2000/svg\" height=\"24px\"viewBox=\"0 0 24 24\"\n",
              "       width=\"24px\">\n",
              "    <path d=\"M0 0h24v24H0V0z\" fill=\"none\"/>\n",
              "    <path d=\"M18.56 5.44l.94 2.06.94-2.06 2.06-.94-2.06-.94-.94-2.06-.94 2.06-2.06.94zm-11 1L8.5 8.5l.94-2.06 2.06-.94-2.06-.94L8.5 2.5l-.94 2.06-2.06.94zm10 10l.94 2.06.94-2.06 2.06-.94-2.06-.94-.94-2.06-.94 2.06-2.06.94z\"/><path d=\"M17.41 7.96l-1.37-1.37c-.4-.4-.92-.59-1.43-.59-.52 0-1.04.2-1.43.59L10.3 9.45l-7.72 7.72c-.78.78-.78 2.05 0 2.83L4 21.41c.39.39.9.59 1.41.59.51 0 1.02-.2 1.41-.59l7.78-7.78 2.81-2.81c.8-.78.8-2.07 0-2.86zM5.41 20L4 18.59l7.72-7.72 1.47 1.35L5.41 20z\"/>\n",
              "  </svg>\n",
              "      </button>\n",
              "      \n",
              "  <style>\n",
              "    .colab-df-container {\n",
              "      display:flex;\n",
              "      flex-wrap:wrap;\n",
              "      gap: 12px;\n",
              "    }\n",
              "\n",
              "    .colab-df-convert {\n",
              "      background-color: #E8F0FE;\n",
              "      border: none;\n",
              "      border-radius: 50%;\n",
              "      cursor: pointer;\n",
              "      display: none;\n",
              "      fill: #1967D2;\n",
              "      height: 32px;\n",
              "      padding: 0 0 0 0;\n",
              "      width: 32px;\n",
              "    }\n",
              "\n",
              "    .colab-df-convert:hover {\n",
              "      background-color: #E2EBFA;\n",
              "      box-shadow: 0px 1px 2px rgba(60, 64, 67, 0.3), 0px 1px 3px 1px rgba(60, 64, 67, 0.15);\n",
              "      fill: #174EA6;\n",
              "    }\n",
              "\n",
              "    [theme=dark] .colab-df-convert {\n",
              "      background-color: #3B4455;\n",
              "      fill: #D2E3FC;\n",
              "    }\n",
              "\n",
              "    [theme=dark] .colab-df-convert:hover {\n",
              "      background-color: #434B5C;\n",
              "      box-shadow: 0px 1px 3px 1px rgba(0, 0, 0, 0.15);\n",
              "      filter: drop-shadow(0px 1px 2px rgba(0, 0, 0, 0.3));\n",
              "      fill: #FFFFFF;\n",
              "    }\n",
              "  </style>\n",
              "\n",
              "      <script>\n",
              "        const buttonEl =\n",
              "          document.querySelector('#df-932915a1-69c6-40cf-978b-34a1179e3535 button.colab-df-convert');\n",
              "        buttonEl.style.display =\n",
              "          google.colab.kernel.accessAllowed ? 'block' : 'none';\n",
              "\n",
              "        async function convertToInteractive(key) {\n",
              "          const element = document.querySelector('#df-932915a1-69c6-40cf-978b-34a1179e3535');\n",
              "          const dataTable =\n",
              "            await google.colab.kernel.invokeFunction('convertToInteractive',\n",
              "                                                     [key], {});\n",
              "          if (!dataTable) return;\n",
              "\n",
              "          const docLinkHtml = 'Like what you see? Visit the ' +\n",
              "            '<a target=\"_blank\" href=https://colab.research.google.com/notebooks/data_table.ipynb>data table notebook</a>'\n",
              "            + ' to learn more about interactive tables.';\n",
              "          element.innerHTML = '';\n",
              "          dataTable['output_type'] = 'display_data';\n",
              "          await google.colab.output.renderOutput(dataTable, element);\n",
              "          const docLink = document.createElement('div');\n",
              "          docLink.innerHTML = docLinkHtml;\n",
              "          element.appendChild(docLink);\n",
              "        }\n",
              "      </script>\n",
              "    </div>\n",
              "  </div>\n",
              "  "
            ]
          },
          "metadata": {},
          "execution_count": 167
        }
      ],
      "source": [
        "#Możliwe,że źle zrozumiałem pojęcie counterfactual-ale starałem się tutaj w tym pytaniu, by wszelkie\n",
        "#counterfactual wynosiło zero.\n",
        "#Możliwe,że w counterfactual chodzi o to,by była po prostu odwrotna niz w podanym i2e[idx2e]\n",
        "#tak czy siak, to nie zmienia wiele w działaniu na tym-ale może powodować zmiany w odpowiedziach\n",
        "\n",
        "idx2e=0\n",
        "pd.DataFrame(i2e[idx2e].reshape(1,-1), columns=features)\n"
      ]
    },
    {
      "cell_type": "code",
      "source": [
        "print(f\"True label of the explained instance (returned by the blackbox model): {clf.predict(i2e[idx2e].reshape(1,-1))[0]}\")"
      ],
      "metadata": {
        "colab": {
          "base_uri": "https://localhost:8080/"
        },
        "id": "ZcU_5-8fkPkw",
        "outputId": "96c6c28f-e55d-4bd1-f182-00e761c67636"
      },
      "execution_count": null,
      "outputs": [
        {
          "output_type": "stream",
          "name": "stdout",
          "text": [
            "True label of the explained instance (returned by the blackbox model): 1\n"
          ]
        }
      ]
    },
    {
      "cell_type": "markdown",
      "metadata": {
        "id": "_764bYh0T9Vo"
      },
      "source": [
        "## Textual explanation and counterfactual"
      ]
    },
    {
      "cell_type": "code",
      "execution_count": null,
      "metadata": {
        "id": "RVkat52bT9Vo",
        "colab": {
          "base_uri": "https://localhost:8080/"
        },
        "outputId": "70b57361-3d2f-4c54-b89e-0a8b37d62924"
      },
      "outputs": [
        {
          "output_type": "stream",
          "name": "stdout",
          "text": [
            "Explanation:\n",
            "{'f_4': ['< -0.19929116281545256']}\n",
            "\n",
            " medoid Counterfactual:\n",
            "{'f_4': ['< -0.19929116281545256']}\n",
            "something bad happened\n",
            "\n",
            " nearest  Counterfactual:\n",
            "{'f_4': ['< -0.19929116281545256']}\n",
            "something bad happened\n"
          ]
        }
      ],
      "source": [
        "idx2e=0\n",
        "explanation = lux.justify(i2e[idx2e].reshape(1, -1), to_dict=True)[0][0]['rule']\n",
        "print(\"Explanation:\")\n",
        "print(explanation)\n",
        "\n",
        "\n",
        "cf_medoid = lux.counterfactual(i2e[idx2e].reshape(1, -1), train[features], counterfactual_representative='medoid', topn=1)[0]\n",
        "counterfactual_rule = cf_medoid['rule']\n",
        "print(\"\\n medoid Counterfactual:\")\n",
        "print(counterfactual_rule)\n",
        "\n",
        "if counterfactual_rule==explanation:\n",
        "  print(\"something bad happened\")\n",
        "\n",
        "cf_medoid = lux.counterfactual(i2e[idx2e].reshape(1, -1), train[features], counterfactual_representative='nearest', topn=1)[0]\n",
        "counterfactual_rule = cf_medoid['rule']\n",
        "print(\"\\n nearest  Counterfactual:\")\n",
        "print(counterfactual_rule)\n",
        "\n",
        "if counterfactual_rule==explanation:\n",
        "  print(\"something bad happened\")\n",
        "#czasem to działa,a czasem nie.."
      ]
    },
    {
      "cell_type": "code",
      "execution_count": null,
      "metadata": {
        "id": "eXZq4u0dT9Vp",
        "colab": {
          "base_uri": "https://localhost:8080/",
          "height": 1000
        },
        "outputId": "fcc10aa5-6efd-4a80-e978-d0012e2f87a5"
      },
      "outputs": [
        {
          "output_type": "stream",
          "name": "stdout",
          "text": [
            "[-0.56670511 -1.79392111  0.33362461 -0.61043247 -0.52524674 -0.59982139\n",
            " -0.65713496 -0.33480299]\n",
            "Original counterfactual example:\n",
            "f_0    0.408653\n",
            "f_1   -1.776235\n",
            "f_2    0.457769\n",
            "f_3   -0.778978\n",
            "f_4   -0.748500\n",
            "f_5   -1.029372\n",
            "f_6   -1.352670\n",
            "f_7    0.143388\n",
            "Name: 281, dtype: float64\n"
          ]
        },
        {
          "output_type": "display_data",
          "data": {
            "text/plain": [
              "<Figure size 640x480 with 1 Axes>"
            ],
            "image/png": "[encoded data removed]"
          },
          "metadata": {}
        },
        {
          "output_type": "display_data",
          "data": {
            "text/plain": [
              "<Figure size 640x480 with 1 Axes>"
            ],
            "image/png": "[encoded data removed]"
          },
          "metadata": {}
        },
        {
          "output_type": "display_data",
          "data": {
            "text/plain": [
              "<Figure size 640x480 with 1 Axes>"
            ],
            "image/png": "[encoded data removed]"
          },
          "metadata": {}
        },
        {
          "output_type": "display_data",
          "data": {
            "text/plain": [
              "<Figure size 640x480 with 1 Axes>"
            ],
            "image/png": "[encoded data removed]"
          },
          "metadata": {}
        },
        {
          "output_type": "display_data",
          "data": {
            "text/plain": [
              "<Figure size 640x480 with 1 Axes>"
            ],
            "image/png": "[encoded data removed]"
          },
          "metadata": {}
        },
        {
          "output_type": "display_data",
          "data": {
            "text/plain": [
              "<Figure size 640x480 with 1 Axes>"
            ],
            "image/png": "[encoded data removed]"
          },
          "metadata": {}
        },
        {
          "output_type": "display_data",
          "data": {
            "text/plain": [
              "<Figure size 640x480 with 1 Axes>"
            ],
            "image/png": "[encoded data removed]"
          },
          "metadata": {}
        },
        {
          "output_type": "display_data",
          "data": {
            "text/plain": [
              "<Figure size 640x480 with 1 Axes>"
            ],
            "image/png": "[encoded data removed]"
          },
          "metadata": {}
        }
      ],
      "source": [
        "#lets try to explore the predictions and look for cf\n",
        "print (i2e[idx2e])\n",
        "\n",
        "\n",
        "\n",
        "features = ['f_0', 'f_1', 'f_2', 'f_3', 'f_4', 'f_5', 'f_6', 'f_7', ]\n",
        "\n",
        "counterfactual_example = cf_medoid['counterfactual']\n",
        "print(\"Original counterfactual example:\")\n",
        "print(counterfactual_example)\n",
        "\n",
        "values = np.arange(-2, 2.1, 0.1)\n",
        "\n",
        "predictions = np.zeros((len(features), len(values)))\n",
        "for i, feature in enumerate(features):\n",
        "    modified_counterfactual = counterfactual_example.copy()\n",
        "\n",
        "  \n",
        "    for j, value in enumerate(values):\n",
        "        modified_counterfactual[feature] = value\n",
        "        prediction = clf.predict(modified_counterfactual.values.reshape(1, -1))[0]\n",
        "        predictions[i, j] = prediction\n",
        "\n",
        "\n",
        "for i, feature in enumerate(features):\n",
        "    plt.figure()\n",
        "    plt.plot(values, predictions[i])\n",
        "    plt.xlabel(feature)\n",
        "    plt.ylabel('Class')\n",
        "    plt.title(f'Predicted Class for Different {feature} Values')\n",
        "    plt.grid(True)\n",
        "    plt.show()\n",
        "\n"
      ]
    },
    {
      "cell_type": "markdown",
      "metadata": {
        "id": "yWBMOKlDT9Vp"
      },
      "source": [
        "# Based on the explanation above, try to predict what will be the model output for the following instance:"
      ]
    },
    {
      "cell_type": "code",
      "execution_count": null,
      "metadata": {
        "id": "gfDvFcscT9Vq",
        "colab": {
          "base_uri": "https://localhost:8080/"
        },
        "outputId": "e2c4441f-762d-4283-9928-d1afeab44b50"
      },
      "outputs": [
        {
          "output_type": "execute_result",
          "data": {
            "text/plain": [
              "1"
            ]
          },
          "metadata": {},
          "execution_count": 131
        }
      ],
      "source": [
        "similari2e=pickle.load( open(path+f'/exp_models/mod_i2e_{0}/similari2e.pickle','rb'))\n",
        "similari2e.to_frame().T\n",
        "clf.predict(i2e[idx2e].reshape(1,-1))[0]\n",
        "\n",
        "#do porównania z rules- które są sprzeczne"
      ]
    },
    {
      "cell_type": "code",
      "execution_count": null,
      "metadata": {
        "id": "DU5blOdMT9Vq"
      },
      "outputs": [],
      "source": [
        "PREDICTION_1 =1 # Change to 0 (The balckbox model will predict 0) or 1 (The blackbox model will predict 1)\n",
        "\n",
        "## Your confidence in the answer\n",
        "CONFIDENCE_PREDICTION_1= 1 # Change to 0 (I have no idea if my answer is correct) to 5 (I am confident that my ansewer is correct wrt to evidence I saw)"
      ]
    },
    {
      "cell_type": "markdown",
      "metadata": {
        "id": "FtTTHYRsT9Vq"
      },
      "source": [
        "# Can you chage the counterfactual example to be more certain that it will be labelled as it suppose to be?"
      ]
    },
    {
      "cell_type": "code",
      "source": [
        "import numpy as np\n",
        "\n",
        "\n",
        "counterfactual_example = cf_medoid['counterfactual']\n",
        "print(\"Original counterfactual example:\")\n",
        "print(counterfactual_example)\n",
        "\n",
        "\n",
        "new_counterfactual_example = counterfactual_example.copy()\n",
        "\n",
        "\n",
        "new_counterfactual_example['f_0'] = 2.0  \n",
        "new_counterfactual_example['f_1'] = 2.0  \n",
        "new_counterfactual_example['f_2'] = 2.0  \n",
        "new_counterfactual_example['f_7'] = -2.0  \n",
        "predicted = clf.predict(new_counterfactual_example.values.reshape(1, -1))[0]\n",
        "\n",
        "print(\"modified cf:\")\n",
        "print(new_counterfactual_example)\n",
        "print(new_counterfactual_example.values.reshape(1, -1))\n",
        "print(\"Prediction for modified cf\", predicted)\n"
      ],
      "metadata": {
        "id": "DETq6uxOn23R",
        "colab": {
          "base_uri": "https://localhost:8080/"
        },
        "outputId": "abfefd89-9c77-419d-a053-76b8e3b544ce"
      },
      "execution_count": null,
      "outputs": [
        {
          "output_type": "stream",
          "name": "stdout",
          "text": [
            "Original counterfactual example:\n",
            "f_0    0.408653\n",
            "f_1   -1.776235\n",
            "f_2    0.457769\n",
            "f_3   -0.778978\n",
            "f_4   -0.748500\n",
            "f_5   -1.029372\n",
            "f_6   -1.352670\n",
            "f_7    0.143388\n",
            "Name: 281, dtype: float64\n",
            "modified cf:\n",
            "f_0    2.000000\n",
            "f_1    2.000000\n",
            "f_2    2.000000\n",
            "f_3   -0.778978\n",
            "f_4   -0.748500\n",
            "f_5   -1.029372\n",
            "f_6   -1.352670\n",
            "f_7   -2.000000\n",
            "Name: 281, dtype: float64\n",
            "[[ 2.          2.          2.         -0.77897812 -0.74849981 -1.02937151\n",
            "  -1.35267029 -2.        ]]\n",
            "Prediction for modified cf 0\n"
          ]
        }
      ]
    },
    {
      "cell_type": "code",
      "execution_count": null,
      "metadata": {
        "id": "zyEGGgXWT9Vq",
        "colab": {
          "base_uri": "https://localhost:8080/"
        },
        "outputId": "14ba7beb-31b1-463a-d1d1-2d1541b30663"
      },
      "outputs": [
        {
          "output_type": "stream",
          "name": "stdout",
          "text": [
            "True label of counterfactual: 0\n"
          ]
        }
      ],
      "source": [
        "#True class of counterfactual is:\n",
        "print(f\"True label of counterfactual: {clf.predict(cf_medoid['counterfactual'].values.reshape(1,-1))[0]}\")"
      ]
    },
    {
      "cell_type": "code",
      "execution_count": null,
      "metadata": {
        "id": "UiIAVokFT9Vq"
      },
      "outputs": [],
      "source": [
        "COUNTERFACTUAL_CHANGE_1 = [ 2.0,,2.0,2.0,-0.77897812,-0.74849981,-1.02937151,-1.35267029,-2. ]0]\n",
        "\n",
        "COUNTERFACTUAL_CHANGE_CLASS_1 =0 # Change to 0 (The balckbox model will predict 0) or 1 (The blackbox model will predict 1)\n",
        "\n",
        "\n",
        "## Your confidence in the answer\n",
        "CONFIDENCE_CHANGE_COUNTERFACTUAL_1 =3 # Change to  0-5 #As far as i can tell with only very basic data exploration"
      ]
    },
    {
      "cell_type": "markdown",
      "metadata": {
        "id": "4boHybRrT9Vq"
      },
      "source": [
        "# Based on the counterfactual explanation above, try to provide additional counterfactual example for the instance"
      ]
    },
    {
      "cell_type": "code",
      "execution_count": null,
      "metadata": {
        "id": "6NNjGVPGT9Vq",
        "colab": {
          "base_uri": "https://localhost:8080/",
          "height": 81
        },
        "outputId": "cecdc11a-b1b7-4343-ccac-5bad05a67cba"
      },
      "outputs": [
        {
          "output_type": "execute_result",
          "data": {
            "text/plain": [
              "        f_0       f_1       f_2       f_3       f_4       f_5       f_6  \\\n",
              "0 -0.566705 -1.793921  0.333625 -0.610432 -0.525247 -0.599821 -0.657135   \n",
              "\n",
              "        f_7  \n",
              "0 -0.334803  "
            ],
            "text/html": [
              "\n",
              "  <div id=\"df-d6ee211b-9474-4c4b-8b96-158ba268ffe5\">\n",
              "    <div class=\"colab-df-container\">\n",
              "      <div>\n",
              "<style scoped>\n",
              "    .dataframe tbody tr th:only-of-type {\n",
              "        vertical-align: middle;\n",
              "    }\n",
              "\n",
              "    .dataframe tbody tr th {\n",
              "        vertical-align: top;\n",
              "    }\n",
              "\n",
              "    .dataframe thead th {\n",
              "        text-align: right;\n",
              "    }\n",
              "</style>\n",
              "<table border=\"1\" class=\"dataframe\">\n",
              "  <thead>\n",
              "    <tr style=\"text-align: right;\">\n",
              "      <th></th>\n",
              "      <th>f_0</th>\n",
              "      <th>f_1</th>\n",
              "      <th>f_2</th>\n",
              "      <th>f_3</th>\n",
              "      <th>f_4</th>\n",
              "      <th>f_5</th>\n",
              "      <th>f_6</th>\n",
              "      <th>f_7</th>\n",
              "    </tr>\n",
              "  </thead>\n",
              "  <tbody>\n",
              "    <tr>\n",
              "      <th>0</th>\n",
              "      <td>-0.566705</td>\n",
              "      <td>-1.793921</td>\n",
              "      <td>0.333625</td>\n",
              "      <td>-0.610432</td>\n",
              "      <td>-0.525247</td>\n",
              "      <td>-0.599821</td>\n",
              "      <td>-0.657135</td>\n",
              "      <td>-0.334803</td>\n",
              "    </tr>\n",
              "  </tbody>\n",
              "</table>\n",
              "</div>\n",
              "      <button class=\"colab-df-convert\" onclick=\"convertToInteractive('df-d6ee211b-9474-4c4b-8b96-158ba268ffe5')\"\n",
              "              title=\"Convert this dataframe to an interactive table.\"\n",
              "              style=\"display:none;\">\n",
              "        \n",
              "  <svg xmlns=\"http://www.w3.org/2000/svg\" height=\"24px\"viewBox=\"0 0 24 24\"\n",
              "       width=\"24px\">\n",
              "    <path d=\"M0 0h24v24H0V0z\" fill=\"none\"/>\n",
              "    <path d=\"M18.56 5.44l.94 2.06.94-2.06 2.06-.94-2.06-.94-.94-2.06-.94 2.06-2.06.94zm-11 1L8.5 8.5l.94-2.06 2.06-.94-2.06-.94L8.5 2.5l-.94 2.06-2.06.94zm10 10l.94 2.06.94-2.06 2.06-.94-2.06-.94-.94-2.06-.94 2.06-2.06.94z\"/><path d=\"M17.41 7.96l-1.37-1.37c-.4-.4-.92-.59-1.43-.59-.52 0-1.04.2-1.43.59L10.3 9.45l-7.72 7.72c-.78.78-.78 2.05 0 2.83L4 21.41c.39.39.9.59 1.41.59.51 0 1.02-.2 1.41-.59l7.78-7.78 2.81-2.81c.8-.78.8-2.07 0-2.86zM5.41 20L4 18.59l7.72-7.72 1.47 1.35L5.41 20z\"/>\n",
              "  </svg>\n",
              "      </button>\n",
              "      \n",
              "  <style>\n",
              "    .colab-df-container {\n",
              "      display:flex;\n",
              "      flex-wrap:wrap;\n",
              "      gap: 12px;\n",
              "    }\n",
              "\n",
              "    .colab-df-convert {\n",
              "      background-color: #E8F0FE;\n",
              "      border: none;\n",
              "      border-radius: 50%;\n",
              "      cursor: pointer;\n",
              "      display: none;\n",
              "      fill: #1967D2;\n",
              "      height: 32px;\n",
              "      padding: 0 0 0 0;\n",
              "      width: 32px;\n",
              "    }\n",
              "\n",
              "    .colab-df-convert:hover {\n",
              "      background-color: #E2EBFA;\n",
              "      box-shadow: 0px 1px 2px rgba(60, 64, 67, 0.3), 0px 1px 3px 1px rgba(60, 64, 67, 0.15);\n",
              "      fill: #174EA6;\n",
              "    }\n",
              "\n",
              "    [theme=dark] .colab-df-convert {\n",
              "      background-color: #3B4455;\n",
              "      fill: #D2E3FC;\n",
              "    }\n",
              "\n",
              "    [theme=dark] .colab-df-convert:hover {\n",
              "      background-color: #434B5C;\n",
              "      box-shadow: 0px 1px 3px 1px rgba(0, 0, 0, 0.15);\n",
              "      filter: drop-shadow(0px 1px 2px rgba(0, 0, 0, 0.3));\n",
              "      fill: #FFFFFF;\n",
              "    }\n",
              "  </style>\n",
              "\n",
              "      <script>\n",
              "        const buttonEl =\n",
              "          document.querySelector('#df-d6ee211b-9474-4c4b-8b96-158ba268ffe5 button.colab-df-convert');\n",
              "        buttonEl.style.display =\n",
              "          google.colab.kernel.accessAllowed ? 'block' : 'none';\n",
              "\n",
              "        async function convertToInteractive(key) {\n",
              "          const element = document.querySelector('#df-d6ee211b-9474-4c4b-8b96-158ba268ffe5');\n",
              "          const dataTable =\n",
              "            await google.colab.kernel.invokeFunction('convertToInteractive',\n",
              "                                                     [key], {});\n",
              "          if (!dataTable) return;\n",
              "\n",
              "          const docLinkHtml = 'Like what you see? Visit the ' +\n",
              "            '<a target=\"_blank\" href=https://colab.research.google.com/notebooks/data_table.ipynb>data table notebook</a>'\n",
              "            + ' to learn more about interactive tables.';\n",
              "          element.innerHTML = '';\n",
              "          dataTable['output_type'] = 'display_data';\n",
              "          await google.colab.output.renderOutput(dataTable, element);\n",
              "          const docLink = document.createElement('div');\n",
              "          docLink.innerHTML = docLinkHtml;\n",
              "          element.appendChild(docLink);\n",
              "        }\n",
              "      </script>\n",
              "    </div>\n",
              "  </div>\n",
              "  "
            ]
          },
          "metadata": {},
          "execution_count": 140
        }
      ],
      "source": [
        "#provide counterfactual for the instance below\n",
        "pd.DataFrame(i2e[idx2e].reshape(1,-1), columns=features)\n",
        "\n",
        "\n",
        "\n",
        "\n"
      ]
    },
    {
      "cell_type": "code",
      "source": [
        "import pandas as pd\n",
        "import numpy as np\n",
        "\n",
        "\n",
        "instance = pd.DataFrame(i2e[idx2e].reshape(1, -1), columns=features)\n",
        "target_label = 0\n",
        "\n",
        "counterfactual = instance.copy()\n",
        "\n",
        "for feature in counterfactual.columns:\n",
        "    _certain = 0.0\n",
        "    best_value = counterfactual[feature].values[0]\n",
        "    for value in np.arange(-2.0, 2.1, 0.1):\n",
        "        counterfactual[feature] = value\n",
        "        certain = clf.predict_proba(counterfactual)[0][target_label]\n",
        "        if certain > _certain:\n",
        "            _certain = certain\n",
        "            best_value = value\n",
        "    counterfactual[feature] = best_value\n",
        "\n",
        "print(\"Counterfactual example:\")\n",
        "\n",
        "print(counterfactual)\n",
        "\n",
        "clf.predict(counterfactual.values.reshape(1, -1))[0]\n"
      ],
      "metadata": {
        "colab": {
          "base_uri": "https://localhost:8080/"
        },
        "id": "1ikn_1Pnn8ZD",
        "outputId": "52765a7e-efb3-444b-b518-115243db9f14"
      },
      "execution_count": null,
      "outputs": [
        {
          "output_type": "stream",
          "name": "stdout",
          "text": [
            "Counterfactual example:\n",
            "   f_0           f_1  f_2  f_3  f_4  f_5  f_6  f_7\n",
            "0  2.0  1.776357e-15  2.0  2.0 -2.0  2.0 -2.0 -0.4\n"
          ]
        },
        {
          "output_type": "execute_result",
          "data": {
            "text/plain": [
              "0"
            ]
          },
          "metadata": {},
          "execution_count": 148
        }
      ]
    },
    {
      "cell_type": "code",
      "execution_count": null,
      "metadata": {
        "id": "RDp7TzRDT9Vr"
      },
      "outputs": [],
      "source": [
        "COUNTERFACTUAL_NEW_1 = None  [2.0, 1.776357e-15,2.0,2.0,-2.0,2.0,-2.0,-0.4] e.g. [-0.566705\t,-1.793921,\t0.333625,\t-0.610432\t,-0.525247,\t-0.599821,\t-0.657135\t,-0.334803]\n",
        "COUNTERFACTUAL_NEW_CLASS_1 = 0\n",
        "\n",
        "## Your confidence in the answer\n",
        "CONFIDENCE_NEW_COUNTERFACTUAL_1 = 3"
      ]
    },
    {
      "cell_type": "markdown",
      "metadata": {
        "id": "at8QOwIuT9Vr"
      },
      "source": [
        "# Question 2\n",
        "You need to obtain explanation of a decision of a balckbox model for an instance below.\n",
        "\n"
      ]
    },
    {
      "cell_type": "code",
      "execution_count": null,
      "metadata": {
        "id": "XcIMQi__T9Vr",
        "colab": {
          "base_uri": "https://localhost:8080/",
          "height": 81
        },
        "outputId": "1f114428-cb22-45c8-c10b-311e33333695"
      },
      "outputs": [
        {
          "output_type": "execute_result",
          "data": {
            "text/plain": [
              "        f_0       f_1       f_2       f_3       f_4       f_5       f_6  \\\n",
              "0  1.288863  0.218389 -0.880719  1.452261  1.462101 -0.133003 -1.320892   \n",
              "\n",
              "        f_7  \n",
              "0 -0.193428  "
            ],
            "text/html": [
              "\n",
              "  <div id=\"df-24c52acf-9aec-447f-be8c-3d0397dcd3d7\">\n",
              "    <div class=\"colab-df-container\">\n",
              "      <div>\n",
              "<style scoped>\n",
              "    .dataframe tbody tr th:only-of-type {\n",
              "        vertical-align: middle;\n",
              "    }\n",
              "\n",
              "    .dataframe tbody tr th {\n",
              "        vertical-align: top;\n",
              "    }\n",
              "\n",
              "    .dataframe thead th {\n",
              "        text-align: right;\n",
              "    }\n",
              "</style>\n",
              "<table border=\"1\" class=\"dataframe\">\n",
              "  <thead>\n",
              "    <tr style=\"text-align: right;\">\n",
              "      <th></th>\n",
              "      <th>f_0</th>\n",
              "      <th>f_1</th>\n",
              "      <th>f_2</th>\n",
              "      <th>f_3</th>\n",
              "      <th>f_4</th>\n",
              "      <th>f_5</th>\n",
              "      <th>f_6</th>\n",
              "      <th>f_7</th>\n",
              "    </tr>\n",
              "  </thead>\n",
              "  <tbody>\n",
              "    <tr>\n",
              "      <th>0</th>\n",
              "      <td>1.288863</td>\n",
              "      <td>0.218389</td>\n",
              "      <td>-0.880719</td>\n",
              "      <td>1.452261</td>\n",
              "      <td>1.462101</td>\n",
              "      <td>-0.133003</td>\n",
              "      <td>-1.320892</td>\n",
              "      <td>-0.193428</td>\n",
              "    </tr>\n",
              "  </tbody>\n",
              "</table>\n",
              "</div>\n",
              "      <button class=\"colab-df-convert\" onclick=\"convertToInteractive('df-24c52acf-9aec-447f-be8c-3d0397dcd3d7')\"\n",
              "              title=\"Convert this dataframe to an interactive table.\"\n",
              "              style=\"display:none;\">\n",
              "        \n",
              "  <svg xmlns=\"http://www.w3.org/2000/svg\" height=\"24px\"viewBox=\"0 0 24 24\"\n",
              "       width=\"24px\">\n",
              "    <path d=\"M0 0h24v24H0V0z\" fill=\"none\"/>\n",
              "    <path d=\"M18.56 5.44l.94 2.06.94-2.06 2.06-.94-2.06-.94-.94-2.06-.94 2.06-2.06.94zm-11 1L8.5 8.5l.94-2.06 2.06-.94-2.06-.94L8.5 2.5l-.94 2.06-2.06.94zm10 10l.94 2.06.94-2.06 2.06-.94-2.06-.94-.94-2.06-.94 2.06-2.06.94z\"/><path d=\"M17.41 7.96l-1.37-1.37c-.4-.4-.92-.59-1.43-.59-.52 0-1.04.2-1.43.59L10.3 9.45l-7.72 7.72c-.78.78-.78 2.05 0 2.83L4 21.41c.39.39.9.59 1.41.59.51 0 1.02-.2 1.41-.59l7.78-7.78 2.81-2.81c.8-.78.8-2.07 0-2.86zM5.41 20L4 18.59l7.72-7.72 1.47 1.35L5.41 20z\"/>\n",
              "  </svg>\n",
              "      </button>\n",
              "      \n",
              "  <style>\n",
              "    .colab-df-container {\n",
              "      display:flex;\n",
              "      flex-wrap:wrap;\n",
              "      gap: 12px;\n",
              "    }\n",
              "\n",
              "    .colab-df-convert {\n",
              "      background-color: #E8F0FE;\n",
              "      border: none;\n",
              "      border-radius: 50%;\n",
              "      cursor: pointer;\n",
              "      display: none;\n",
              "      fill: #1967D2;\n",
              "      height: 32px;\n",
              "      padding: 0 0 0 0;\n",
              "      width: 32px;\n",
              "    }\n",
              "\n",
              "    .colab-df-convert:hover {\n",
              "      background-color: #E2EBFA;\n",
              "      box-shadow: 0px 1px 2px rgba(60, 64, 67, 0.3), 0px 1px 3px 1px rgba(60, 64, 67, 0.15);\n",
              "      fill: #174EA6;\n",
              "    }\n",
              "\n",
              "    [theme=dark] .colab-df-convert {\n",
              "      background-color: #3B4455;\n",
              "      fill: #D2E3FC;\n",
              "    }\n",
              "\n",
              "    [theme=dark] .colab-df-convert:hover {\n",
              "      background-color: #434B5C;\n",
              "      box-shadow: 0px 1px 3px 1px rgba(0, 0, 0, 0.15);\n",
              "      filter: drop-shadow(0px 1px 2px rgba(0, 0, 0, 0.3));\n",
              "      fill: #FFFFFF;\n",
              "    }\n",
              "  </style>\n",
              "\n",
              "      <script>\n",
              "        const buttonEl =\n",
              "          document.querySelector('#df-24c52acf-9aec-447f-be8c-3d0397dcd3d7 button.colab-df-convert');\n",
              "        buttonEl.style.display =\n",
              "          google.colab.kernel.accessAllowed ? 'block' : 'none';\n",
              "\n",
              "        async function convertToInteractive(key) {\n",
              "          const element = document.querySelector('#df-24c52acf-9aec-447f-be8c-3d0397dcd3d7');\n",
              "          const dataTable =\n",
              "            await google.colab.kernel.invokeFunction('convertToInteractive',\n",
              "                                                     [key], {});\n",
              "          if (!dataTable) return;\n",
              "\n",
              "          const docLinkHtml = 'Like what you see? Visit the ' +\n",
              "            '<a target=\"_blank\" href=https://colab.research.google.com/notebooks/data_table.ipynb>data table notebook</a>'\n",
              "            + ' to learn more about interactive tables.';\n",
              "          element.innerHTML = '';\n",
              "          dataTable['output_type'] = 'display_data';\n",
              "          await google.colab.output.renderOutput(dataTable, element);\n",
              "          const docLink = document.createElement('div');\n",
              "          docLink.innerHTML = docLinkHtml;\n",
              "          element.appendChild(docLink);\n",
              "        }\n",
              "      </script>\n",
              "    </div>\n",
              "  </div>\n",
              "  "
            ]
          },
          "metadata": {},
          "execution_count": 333
        }
      ],
      "source": [
        "idx2e=1\n",
        "pd.DataFrame(i2e[idx2e].reshape(1,-1), columns=features)"
      ]
    },
    {
      "cell_type": "code",
      "source": [
        "print(f\"True label of the explained instance (returned by the blackbox model): {clf.predict(i2e[idx2e].reshape(1,-1))[0]}\")"
      ],
      "metadata": {
        "colab": {
          "base_uri": "https://localhost:8080/"
        },
        "id": "A1L6l6ZzkRKp",
        "outputId": "22c69560-40e1-44cc-9b4f-1d6ac53e60b2"
      },
      "execution_count": null,
      "outputs": [
        {
          "output_type": "stream",
          "name": "stdout",
          "text": [
            "True label of the explained instance (returned by the blackbox model): 1\n"
          ]
        }
      ]
    },
    {
      "cell_type": "markdown",
      "metadata": {
        "id": "mShsb6t5T9Vr"
      },
      "source": [
        "## Textual explanation and counterfactual"
      ]
    },
    {
      "cell_type": "code",
      "execution_count": null,
      "metadata": {
        "id": "HMfxd1HOT9Vr",
        "colab": {
          "base_uri": "https://localhost:8080/"
        },
        "outputId": "7cd8efcb-1b84-420b-e0c9-cdf2a9a5ffae"
      },
      "outputs": [
        {
          "output_type": "execute_result",
          "data": {
            "text/plain": [
              "{'f_3': ['>= -0.2458133417403509'], 'f_4': ['>= -0.19929116281545256']}"
            ]
          },
          "metadata": {},
          "execution_count": 150
        }
      ],
      "source": [
        "#explanation\n",
        "lux=pickle.load( open(path+f'/exp_models/mod_i2e_{idx2e}/lux.pickle','rb'))\n",
        "lux.justify(i2e[idx2e].reshape(1,-1),to_dict=True)[0][0]['rule']\n"
      ]
    },
    {
      "cell_type": "code",
      "source": [
        "#counterfactual\n",
        "cf_medoid = lux.counterfactual(i2e[idx2e].reshape(1,-1), train[features], counterfactual_representative='nearest', topn=1)[0]\n",
        "cf_medoid['rule']\n",
        "\n"
      ],
      "metadata": {
        "id": "Ioriu6Ihc8fe",
        "colab": {
          "base_uri": "https://localhost:8080/"
        },
        "outputId": "2a68f3e2-a3cc-48c3-d68e-21be163a1516"
      },
      "execution_count": null,
      "outputs": [
        {
          "output_type": "execute_result",
          "data": {
            "text/plain": [
              "{'f_3': ['< -0.2458133417403509', '>= -0.8897095133652263'],\n",
              " 'f_4': ['>= -0.19929116281545256']}"
            ]
          },
          "metadata": {},
          "execution_count": 152
        }
      ]
    },
    {
      "cell_type": "code",
      "source": [
        "cf_medoid = lux.counterfactual(i2e[idx2e].reshape(1,-1), train[features], counterfactual_representative='medoid', topn=1)[0]\n",
        "cf_medoid['rule']"
      ],
      "metadata": {
        "colab": {
          "base_uri": "https://localhost:8080/"
        },
        "id": "X42CWXl0qLhN",
        "outputId": "3fcaf3d7-a115-4cb4-8273-a9a105e8b00a"
      },
      "execution_count": null,
      "outputs": [
        {
          "output_type": "execute_result",
          "data": {
            "text/plain": [
              "{'f_3': ['< -0.2458133417403509', '>= -0.8897095133652263'],\n",
              " 'f_4': ['>= -0.19929116281545256']}"
            ]
          },
          "metadata": {},
          "execution_count": 153
        }
      ]
    },
    {
      "cell_type": "markdown",
      "metadata": {
        "id": "eUG8e3Y1T9Vs"
      },
      "source": [
        "# Based on the explanation above, try to predict what will be the model output for the following instance:"
      ]
    },
    {
      "cell_type": "code",
      "execution_count": null,
      "metadata": {
        "id": "6Mh4HEceT9Vs",
        "colab": {
          "base_uri": "https://localhost:8080/",
          "height": 81
        },
        "outputId": "4823bfab-cc51-4945-bc33-8493e87db303"
      },
      "outputs": [
        {
          "output_type": "execute_result",
          "data": {
            "text/plain": [
              "         f_0       f_1       f_2       f_3       f_4       f_5       f_6  \\\n",
              "43 -0.502975  0.689708  0.702195 -1.088826 -1.198495  0.263487  0.294224   \n",
              "\n",
              "         f_7  \n",
              "43 -1.292263  "
            ],
            "text/html": [
              "\n",
              "  <div id=\"df-f8388f9b-dba2-49b7-b475-19cb73490a08\">\n",
              "    <div class=\"colab-df-container\">\n",
              "      <div>\n",
              "<style scoped>\n",
              "    .dataframe tbody tr th:only-of-type {\n",
              "        vertical-align: middle;\n",
              "    }\n",
              "\n",
              "    .dataframe tbody tr th {\n",
              "        vertical-align: top;\n",
              "    }\n",
              "\n",
              "    .dataframe thead th {\n",
              "        text-align: right;\n",
              "    }\n",
              "</style>\n",
              "<table border=\"1\" class=\"dataframe\">\n",
              "  <thead>\n",
              "    <tr style=\"text-align: right;\">\n",
              "      <th></th>\n",
              "      <th>f_0</th>\n",
              "      <th>f_1</th>\n",
              "      <th>f_2</th>\n",
              "      <th>f_3</th>\n",
              "      <th>f_4</th>\n",
              "      <th>f_5</th>\n",
              "      <th>f_6</th>\n",
              "      <th>f_7</th>\n",
              "    </tr>\n",
              "  </thead>\n",
              "  <tbody>\n",
              "    <tr>\n",
              "      <th>43</th>\n",
              "      <td>-0.502975</td>\n",
              "      <td>0.689708</td>\n",
              "      <td>0.702195</td>\n",
              "      <td>-1.088826</td>\n",
              "      <td>-1.198495</td>\n",
              "      <td>0.263487</td>\n",
              "      <td>0.294224</td>\n",
              "      <td>-1.292263</td>\n",
              "    </tr>\n",
              "  </tbody>\n",
              "</table>\n",
              "</div>\n",
              "      <button class=\"colab-df-convert\" onclick=\"convertToInteractive('df-f8388f9b-dba2-49b7-b475-19cb73490a08')\"\n",
              "              title=\"Convert this dataframe to an interactive table.\"\n",
              "              style=\"display:none;\">\n",
              "        \n",
              "  <svg xmlns=\"http://www.w3.org/2000/svg\" height=\"24px\"viewBox=\"0 0 24 24\"\n",
              "       width=\"24px\">\n",
              "    <path d=\"M0 0h24v24H0V0z\" fill=\"none\"/>\n",
              "    <path d=\"M18.56 5.44l.94 2.06.94-2.06 2.06-.94-2.06-.94-.94-2.06-.94 2.06-2.06.94zm-11 1L8.5 8.5l.94-2.06 2.06-.94-2.06-.94L8.5 2.5l-.94 2.06-2.06.94zm10 10l.94 2.06.94-2.06 2.06-.94-2.06-.94-.94-2.06-.94 2.06-2.06.94z\"/><path d=\"M17.41 7.96l-1.37-1.37c-.4-.4-.92-.59-1.43-.59-.52 0-1.04.2-1.43.59L10.3 9.45l-7.72 7.72c-.78.78-.78 2.05 0 2.83L4 21.41c.39.39.9.59 1.41.59.51 0 1.02-.2 1.41-.59l7.78-7.78 2.81-2.81c.8-.78.8-2.07 0-2.86zM5.41 20L4 18.59l7.72-7.72 1.47 1.35L5.41 20z\"/>\n",
              "  </svg>\n",
              "      </button>\n",
              "      \n",
              "  <style>\n",
              "    .colab-df-container {\n",
              "      display:flex;\n",
              "      flex-wrap:wrap;\n",
              "      gap: 12px;\n",
              "    }\n",
              "\n",
              "    .colab-df-convert {\n",
              "      background-color: #E8F0FE;\n",
              "      border: none;\n",
              "      border-radius: 50%;\n",
              "      cursor: pointer;\n",
              "      display: none;\n",
              "      fill: #1967D2;\n",
              "      height: 32px;\n",
              "      padding: 0 0 0 0;\n",
              "      width: 32px;\n",
              "    }\n",
              "\n",
              "    .colab-df-convert:hover {\n",
              "      background-color: #E2EBFA;\n",
              "      box-shadow: 0px 1px 2px rgba(60, 64, 67, 0.3), 0px 1px 3px 1px rgba(60, 64, 67, 0.15);\n",
              "      fill: #174EA6;\n",
              "    }\n",
              "\n",
              "    [theme=dark] .colab-df-convert {\n",
              "      background-color: #3B4455;\n",
              "      fill: #D2E3FC;\n",
              "    }\n",
              "\n",
              "    [theme=dark] .colab-df-convert:hover {\n",
              "      background-color: #434B5C;\n",
              "      box-shadow: 0px 1px 3px 1px rgba(0, 0, 0, 0.15);\n",
              "      filter: drop-shadow(0px 1px 2px rgba(0, 0, 0, 0.3));\n",
              "      fill: #FFFFFF;\n",
              "    }\n",
              "  </style>\n",
              "\n",
              "      <script>\n",
              "        const buttonEl =\n",
              "          document.querySelector('#df-f8388f9b-dba2-49b7-b475-19cb73490a08 button.colab-df-convert');\n",
              "        buttonEl.style.display =\n",
              "          google.colab.kernel.accessAllowed ? 'block' : 'none';\n",
              "\n",
              "        async function convertToInteractive(key) {\n",
              "          const element = document.querySelector('#df-f8388f9b-dba2-49b7-b475-19cb73490a08');\n",
              "          const dataTable =\n",
              "            await google.colab.kernel.invokeFunction('convertToInteractive',\n",
              "                                                     [key], {});\n",
              "          if (!dataTable) return;\n",
              "\n",
              "          const docLinkHtml = 'Like what you see? Visit the ' +\n",
              "            '<a target=\"_blank\" href=https://colab.research.google.com/notebooks/data_table.ipynb>data table notebook</a>'\n",
              "            + ' to learn more about interactive tables.';\n",
              "          element.innerHTML = '';\n",
              "          dataTable['output_type'] = 'display_data';\n",
              "          await google.colab.output.renderOutput(dataTable, element);\n",
              "          const docLink = document.createElement('div');\n",
              "          docLink.innerHTML = docLinkHtml;\n",
              "          element.appendChild(docLink);\n",
              "        }\n",
              "      </script>\n",
              "    </div>\n",
              "  </div>\n",
              "  "
            ]
          },
          "metadata": {},
          "execution_count": 352
        }
      ],
      "source": [
        "similari2e=pickle.load( open(path+f'/exp_models/mod_i2e_{idx2e}/similari2e.pickle','rb'))\n",
        "similari2e.to_frame().T\n",
        "\n",
        "#zgodnie z rule, f_3 i f_4 < od wartości "
      ]
    },
    {
      "cell_type": "code",
      "execution_count": null,
      "metadata": {
        "id": "F14MinW0T9Vs"
      },
      "outputs": [],
      "source": [
        "PREDICTION_2 = 0\n",
        "\n",
        "## Your confidence in the answer\n",
        "CONFIDENCE_PREDICTION_2= 5 "
      ]
    },
    {
      "cell_type": "markdown",
      "metadata": {
        "id": "TOp4wv5IT9Vs"
      },
      "source": [
        "# Can you chage the counterfactual example to be more certain that it will be labelled as it suppose to be?"
      ]
    },
    {
      "cell_type": "code",
      "source": [
        "#Counterfactual should be 0\n",
        "cf=cf_medoid['counterfactual']\n",
        "print(cf)\n",
        "cf['f_3']=-2\n",
        "cf['f_4']=-2\n",
        "\n",
        "prediction = clf.predict(cf.values.reshape(1, -1))[0] \n",
        "print(\"Predicted label for the modified counterfactual:\", prediction)"
      ],
      "metadata": {
        "id": "l6pXdAMmn7hw",
        "colab": {
          "base_uri": "https://localhost:8080/"
        },
        "outputId": "0028be80-5560-488c-dbe1-0a6f8e0fe105"
      },
      "execution_count": null,
      "outputs": [
        {
          "output_type": "stream",
          "name": "stdout",
          "text": [
            "f_0    0.721479\n",
            "f_1   -0.735303\n",
            "f_2    0.051577\n",
            "f_3   -2.000000\n",
            "f_4    0.813423\n",
            "f_5   -1.050141\n",
            "f_6    0.757495\n",
            "f_7   -0.524448\n",
            "Name: 26, dtype: float64\n",
            "Predicted label for the modified counterfactual: 0\n"
          ]
        }
      ]
    },
    {
      "cell_type": "code",
      "execution_count": null,
      "metadata": {
        "id": "70JiXVIBT9Vs",
        "colab": {
          "base_uri": "https://localhost:8080/"
        },
        "outputId": "f81098d5-9c3c-4321-f531-699d8a022dd5"
      },
      "outputs": [
        {
          "output_type": "stream",
          "name": "stdout",
          "text": [
            "True label of counterfactual: 1\n"
          ]
        }
      ],
      "source": [
        "#True class of counterfactual is:\n",
        "print(f\"True label of counterfactual: {clf.predict(cf_medoid['counterfactual'].values.reshape(1,-1))[0]}\")"
      ]
    },
    {
      "cell_type": "code",
      "execution_count": null,
      "metadata": {
        "id": "Vgzd1dqIT9Vs"
      },
      "outputs": [],
      "source": [
        "COUNTERFACTUAL_CHANGE_2 = [0.721479, -0.735303, 0.051577, -2.0, -2.0, -1.050141, 0.757495, -0.524448]\n",
        "COUNTERFACTUAL_CHANGE_CLASS_2 = 0 \n",
        "\n",
        "\n",
        "\n",
        "CONFIDENCE_CHANGE_COUNTERFACTUAL_2 = 2 # It just works.The rules.. dont seem to."
      ]
    },
    {
      "cell_type": "markdown",
      "metadata": {
        "id": "ACgrec-8T9Vt"
      },
      "source": [
        "# Based on the counterfactual explanation above, try to provide additional counterfactual example for the instance"
      ]
    },
    {
      "cell_type": "code",
      "execution_count": null,
      "metadata": {
        "id": "JNP2cgYfT9Vt",
        "colab": {
          "base_uri": "https://localhost:8080/"
        },
        "outputId": "fd66ed04-6c26-4873-9f7b-754637a4f117"
      },
      "outputs": [
        {
          "output_type": "execute_result",
          "data": {
            "text/plain": [
              "1"
            ]
          },
          "metadata": {},
          "execution_count": 165
        }
      ],
      "source": [
        "#provide counterfactual for the instance below\n",
        "ex1=pd.DataFrame(i2e[idx2e].reshape(1,-1), columns=features)\n",
        "clf.predict(ex1)[0] "
      ]
    },
    {
      "cell_type": "code",
      "execution_count": null,
      "metadata": {
        "id": "inmyyEmOT9Vt"
      },
      "outputs": [],
      "source": [
        "COUNTERFACTUAL_NEW_2 = None # Change to [f_0, f_1 ,f_2, f_3,f_4, f_5, f_6, f_7] e.g. [-0.566705\t,-1.793921,\t0.333625,\t-0.610432\t,-0.525247,\t-0.599821,\t-0.657135\t,-0.334803]\n",
        "COUNTERFACTUAL_NEW_CLASS_2 = None # Change to 0 OR 1\n",
        "\n",
        "## Your confidence in the answer\n",
        "CONFIDENCE_NEW_COUNTERFACTUAL_2 = None # Change to 0-5"
      ]
    },
    {
      "cell_type": "markdown",
      "metadata": {
        "id": "p_bnUTZKT9Vt"
      },
      "source": [
        "# Question 3\n",
        "You need to obtain explanation of a decision of a balckbox model for an instance below.\n",
        "\n"
      ]
    },
    {
      "cell_type": "code",
      "execution_count": null,
      "metadata": {
        "id": "1glI8MmfT9Vt",
        "colab": {
          "base_uri": "https://localhost:8080/",
          "height": 81
        },
        "outputId": "9b8e931a-fe27-4262-da7e-fd89b4bced23"
      },
      "outputs": [
        {
          "output_type": "execute_result",
          "data": {
            "text/plain": [
              "        f_0       f_1       f_2       f_3       f_4       f_5       f_6  \\\n",
              "0 -0.041472 -0.397115  0.510938 -0.977625 -0.784114 -1.099039  1.796665   \n",
              "\n",
              "        f_7  \n",
              "0 -1.312163  "
            ],
            "text/html": [
              "\n",
              "  <div id=\"df-b83d456a-ad04-4f9e-9758-1b8bb80dbcd1\">\n",
              "    <div class=\"colab-df-container\">\n",
              "      <div>\n",
              "<style scoped>\n",
              "    .dataframe tbody tr th:only-of-type {\n",
              "        vertical-align: middle;\n",
              "    }\n",
              "\n",
              "    .dataframe tbody tr th {\n",
              "        vertical-align: top;\n",
              "    }\n",
              "\n",
              "    .dataframe thead th {\n",
              "        text-align: right;\n",
              "    }\n",
              "</style>\n",
              "<table border=\"1\" class=\"dataframe\">\n",
              "  <thead>\n",
              "    <tr style=\"text-align: right;\">\n",
              "      <th></th>\n",
              "      <th>f_0</th>\n",
              "      <th>f_1</th>\n",
              "      <th>f_2</th>\n",
              "      <th>f_3</th>\n",
              "      <th>f_4</th>\n",
              "      <th>f_5</th>\n",
              "      <th>f_6</th>\n",
              "      <th>f_7</th>\n",
              "    </tr>\n",
              "  </thead>\n",
              "  <tbody>\n",
              "    <tr>\n",
              "      <th>0</th>\n",
              "      <td>-0.041472</td>\n",
              "      <td>-0.397115</td>\n",
              "      <td>0.510938</td>\n",
              "      <td>-0.977625</td>\n",
              "      <td>-0.784114</td>\n",
              "      <td>-1.099039</td>\n",
              "      <td>1.796665</td>\n",
              "      <td>-1.312163</td>\n",
              "    </tr>\n",
              "  </tbody>\n",
              "</table>\n",
              "</div>\n",
              "      <button class=\"colab-df-convert\" onclick=\"convertToInteractive('df-b83d456a-ad04-4f9e-9758-1b8bb80dbcd1')\"\n",
              "              title=\"Convert this dataframe to an interactive table.\"\n",
              "              style=\"display:none;\">\n",
              "        \n",
              "  <svg xmlns=\"http://www.w3.org/2000/svg\" height=\"24px\"viewBox=\"0 0 24 24\"\n",
              "       width=\"24px\">\n",
              "    <path d=\"M0 0h24v24H0V0z\" fill=\"none\"/>\n",
              "    <path d=\"M18.56 5.44l.94 2.06.94-2.06 2.06-.94-2.06-.94-.94-2.06-.94 2.06-2.06.94zm-11 1L8.5 8.5l.94-2.06 2.06-.94-2.06-.94L8.5 2.5l-.94 2.06-2.06.94zm10 10l.94 2.06.94-2.06 2.06-.94-2.06-.94-.94-2.06-.94 2.06-2.06.94z\"/><path d=\"M17.41 7.96l-1.37-1.37c-.4-.4-.92-.59-1.43-.59-.52 0-1.04.2-1.43.59L10.3 9.45l-7.72 7.72c-.78.78-.78 2.05 0 2.83L4 21.41c.39.39.9.59 1.41.59.51 0 1.02-.2 1.41-.59l7.78-7.78 2.81-2.81c.8-.78.8-2.07 0-2.86zM5.41 20L4 18.59l7.72-7.72 1.47 1.35L5.41 20z\"/>\n",
              "  </svg>\n",
              "      </button>\n",
              "      \n",
              "  <style>\n",
              "    .colab-df-container {\n",
              "      display:flex;\n",
              "      flex-wrap:wrap;\n",
              "      gap: 12px;\n",
              "    }\n",
              "\n",
              "    .colab-df-convert {\n",
              "      background-color: #E8F0FE;\n",
              "      border: none;\n",
              "      border-radius: 50%;\n",
              "      cursor: pointer;\n",
              "      display: none;\n",
              "      fill: #1967D2;\n",
              "      height: 32px;\n",
              "      padding: 0 0 0 0;\n",
              "      width: 32px;\n",
              "    }\n",
              "\n",
              "    .colab-df-convert:hover {\n",
              "      background-color: #E2EBFA;\n",
              "      box-shadow: 0px 1px 2px rgba(60, 64, 67, 0.3), 0px 1px 3px 1px rgba(60, 64, 67, 0.15);\n",
              "      fill: #174EA6;\n",
              "    }\n",
              "\n",
              "    [theme=dark] .colab-df-convert {\n",
              "      background-color: #3B4455;\n",
              "      fill: #D2E3FC;\n",
              "    }\n",
              "\n",
              "    [theme=dark] .colab-df-convert:hover {\n",
              "      background-color: #434B5C;\n",
              "      box-shadow: 0px 1px 3px 1px rgba(0, 0, 0, 0.15);\n",
              "      filter: drop-shadow(0px 1px 2px rgba(0, 0, 0, 0.3));\n",
              "      fill: #FFFFFF;\n",
              "    }\n",
              "  </style>\n",
              "\n",
              "      <script>\n",
              "        const buttonEl =\n",
              "          document.querySelector('#df-b83d456a-ad04-4f9e-9758-1b8bb80dbcd1 button.colab-df-convert');\n",
              "        buttonEl.style.display =\n",
              "          google.colab.kernel.accessAllowed ? 'block' : 'none';\n",
              "\n",
              "        async function convertToInteractive(key) {\n",
              "          const element = document.querySelector('#df-b83d456a-ad04-4f9e-9758-1b8bb80dbcd1');\n",
              "          const dataTable =\n",
              "            await google.colab.kernel.invokeFunction('convertToInteractive',\n",
              "                                                     [key], {});\n",
              "          if (!dataTable) return;\n",
              "\n",
              "          const docLinkHtml = 'Like what you see? Visit the ' +\n",
              "            '<a target=\"_blank\" href=https://colab.research.google.com/notebooks/data_table.ipynb>data table notebook</a>'\n",
              "            + ' to learn more about interactive tables.';\n",
              "          element.innerHTML = '';\n",
              "          dataTable['output_type'] = 'display_data';\n",
              "          await google.colab.output.renderOutput(dataTable, element);\n",
              "          const docLink = document.createElement('div');\n",
              "          docLink.innerHTML = docLinkHtml;\n",
              "          element.appendChild(docLink);\n",
              "        }\n",
              "      </script>\n",
              "    </div>\n",
              "  </div>\n",
              "  "
            ]
          },
          "metadata": {},
          "execution_count": 307
        }
      ],
      "source": [
        "idx2e=2\n",
        "pd.DataFrame(i2e[idx2e].reshape(1,-1), columns=features)\n"
      ]
    },
    {
      "cell_type": "code",
      "source": [
        "print(f\"True label of the explained instance (returned by the blackbox model): {clf.predict(i2e[idx2e].reshape(1,-1))[0]}\")"
      ],
      "metadata": {
        "colab": {
          "base_uri": "https://localhost:8080/"
        },
        "id": "kJ7LHAw_kSJi",
        "outputId": "8b7f3306-e0a3-488e-92a1-467ccc2cafaa"
      },
      "execution_count": null,
      "outputs": [
        {
          "output_type": "stream",
          "name": "stdout",
          "text": [
            "True label of the explained instance (returned by the blackbox model): 0\n"
          ]
        }
      ]
    },
    {
      "cell_type": "markdown",
      "metadata": {
        "id": "5yzZK8ZVT9Vt"
      },
      "source": [
        "## Textual explanation and counterfactual"
      ]
    },
    {
      "cell_type": "code",
      "execution_count": null,
      "metadata": {
        "id": "Q3kQdeqoT9Vt",
        "colab": {
          "base_uri": "https://localhost:8080/"
        },
        "outputId": "8544eee0-eb5d-45e2-d1eb-c0d702351b22"
      },
      "outputs": [
        {
          "output_type": "execute_result",
          "data": {
            "text/plain": [
              "{'f_4': ['< -0.19929116281545256']}"
            ]
          },
          "metadata": {},
          "execution_count": 308
        }
      ],
      "source": [
        "#explanation\n",
        "lux=pickle.load( open(path+f'/exp_models/mod_i2e_{idx2e}/lux.pickle','rb'))\n",
        "lux.justify(i2e[idx2e].reshape(1,-1),to_dict=True)[0][0]['rule']"
      ]
    },
    {
      "cell_type": "code",
      "source": [
        "#counterfactual\n",
        "cf_medoid = lux.counterfactual(i2e[idx2e].reshape(1,-1), train[features], counterfactual_representative='nearest', topn=1)[0]\n",
        "cf_medoid['rule']"
      ],
      "metadata": {
        "id": "JCmQLHjrc_4H",
        "colab": {
          "base_uri": "https://localhost:8080/"
        },
        "outputId": "ee24fdb4-678c-45ad-cb96-14e0a764feb4"
      },
      "execution_count": null,
      "outputs": [
        {
          "output_type": "execute_result",
          "data": {
            "text/plain": [
              "{'f_3': ['< -0.2458133417403509'], 'f_4': ['>= -0.19929116281545256']}"
            ]
          },
          "metadata": {},
          "execution_count": 309
        }
      ]
    },
    {
      "cell_type": "markdown",
      "metadata": {
        "id": "TCjgdN1dT9Vu"
      },
      "source": [
        "# Based on the explanation above, try to predict what will be the model output for the following instance:"
      ]
    },
    {
      "cell_type": "code",
      "execution_count": null,
      "metadata": {
        "id": "CmNVXhVST9Vu",
        "colab": {
          "base_uri": "https://localhost:8080/",
          "height": 81
        },
        "outputId": "690aa4c4-1495-4513-a571-882dd1c2215e"
      },
      "outputs": [
        {
          "output_type": "execute_result",
          "data": {
            "text/plain": [
              "          f_0       f_1       f_2       f_3       f_4       f_5       f_6  \\\n",
              "236 -0.139397 -0.358029  0.345671 -0.960128 -0.388754  0.739653 -1.909356   \n",
              "\n",
              "          f_7  \n",
              "236  0.491208  "
            ],
            "text/html": [
              "\n",
              "  <div id=\"df-c5306b36-659d-4d8a-bb03-f05eaba344a6\">\n",
              "    <div class=\"colab-df-container\">\n",
              "      <div>\n",
              "<style scoped>\n",
              "    .dataframe tbody tr th:only-of-type {\n",
              "        vertical-align: middle;\n",
              "    }\n",
              "\n",
              "    .dataframe tbody tr th {\n",
              "        vertical-align: top;\n",
              "    }\n",
              "\n",
              "    .dataframe thead th {\n",
              "        text-align: right;\n",
              "    }\n",
              "</style>\n",
              "<table border=\"1\" class=\"dataframe\">\n",
              "  <thead>\n",
              "    <tr style=\"text-align: right;\">\n",
              "      <th></th>\n",
              "      <th>f_0</th>\n",
              "      <th>f_1</th>\n",
              "      <th>f_2</th>\n",
              "      <th>f_3</th>\n",
              "      <th>f_4</th>\n",
              "      <th>f_5</th>\n",
              "      <th>f_6</th>\n",
              "      <th>f_7</th>\n",
              "    </tr>\n",
              "  </thead>\n",
              "  <tbody>\n",
              "    <tr>\n",
              "      <th>236</th>\n",
              "      <td>-0.139397</td>\n",
              "      <td>-0.358029</td>\n",
              "      <td>0.345671</td>\n",
              "      <td>-0.960128</td>\n",
              "      <td>-0.388754</td>\n",
              "      <td>0.739653</td>\n",
              "      <td>-1.909356</td>\n",
              "      <td>0.491208</td>\n",
              "    </tr>\n",
              "  </tbody>\n",
              "</table>\n",
              "</div>\n",
              "      <button class=\"colab-df-convert\" onclick=\"convertToInteractive('df-c5306b36-659d-4d8a-bb03-f05eaba344a6')\"\n",
              "              title=\"Convert this dataframe to an interactive table.\"\n",
              "              style=\"display:none;\">\n",
              "        \n",
              "  <svg xmlns=\"http://www.w3.org/2000/svg\" height=\"24px\"viewBox=\"0 0 24 24\"\n",
              "       width=\"24px\">\n",
              "    <path d=\"M0 0h24v24H0V0z\" fill=\"none\"/>\n",
              "    <path d=\"M18.56 5.44l.94 2.06.94-2.06 2.06-.94-2.06-.94-.94-2.06-.94 2.06-2.06.94zm-11 1L8.5 8.5l.94-2.06 2.06-.94-2.06-.94L8.5 2.5l-.94 2.06-2.06.94zm10 10l.94 2.06.94-2.06 2.06-.94-2.06-.94-.94-2.06-.94 2.06-2.06.94z\"/><path d=\"M17.41 7.96l-1.37-1.37c-.4-.4-.92-.59-1.43-.59-.52 0-1.04.2-1.43.59L10.3 9.45l-7.72 7.72c-.78.78-.78 2.05 0 2.83L4 21.41c.39.39.9.59 1.41.59.51 0 1.02-.2 1.41-.59l7.78-7.78 2.81-2.81c.8-.78.8-2.07 0-2.86zM5.41 20L4 18.59l7.72-7.72 1.47 1.35L5.41 20z\"/>\n",
              "  </svg>\n",
              "      </button>\n",
              "      \n",
              "  <style>\n",
              "    .colab-df-container {\n",
              "      display:flex;\n",
              "      flex-wrap:wrap;\n",
              "      gap: 12px;\n",
              "    }\n",
              "\n",
              "    .colab-df-convert {\n",
              "      background-color: #E8F0FE;\n",
              "      border: none;\n",
              "      border-radius: 50%;\n",
              "      cursor: pointer;\n",
              "      display: none;\n",
              "      fill: #1967D2;\n",
              "      height: 32px;\n",
              "      padding: 0 0 0 0;\n",
              "      width: 32px;\n",
              "    }\n",
              "\n",
              "    .colab-df-convert:hover {\n",
              "      background-color: #E2EBFA;\n",
              "      box-shadow: 0px 1px 2px rgba(60, 64, 67, 0.3), 0px 1px 3px 1px rgba(60, 64, 67, 0.15);\n",
              "      fill: #174EA6;\n",
              "    }\n",
              "\n",
              "    [theme=dark] .colab-df-convert {\n",
              "      background-color: #3B4455;\n",
              "      fill: #D2E3FC;\n",
              "    }\n",
              "\n",
              "    [theme=dark] .colab-df-convert:hover {\n",
              "      background-color: #434B5C;\n",
              "      box-shadow: 0px 1px 3px 1px rgba(0, 0, 0, 0.15);\n",
              "      filter: drop-shadow(0px 1px 2px rgba(0, 0, 0, 0.3));\n",
              "      fill: #FFFFFF;\n",
              "    }\n",
              "  </style>\n",
              "\n",
              "      <script>\n",
              "        const buttonEl =\n",
              "          document.querySelector('#df-c5306b36-659d-4d8a-bb03-f05eaba344a6 button.colab-df-convert');\n",
              "        buttonEl.style.display =\n",
              "          google.colab.kernel.accessAllowed ? 'block' : 'none';\n",
              "\n",
              "        async function convertToInteractive(key) {\n",
              "          const element = document.querySelector('#df-c5306b36-659d-4d8a-bb03-f05eaba344a6');\n",
              "          const dataTable =\n",
              "            await google.colab.kernel.invokeFunction('convertToInteractive',\n",
              "                                                     [key], {});\n",
              "          if (!dataTable) return;\n",
              "\n",
              "          const docLinkHtml = 'Like what you see? Visit the ' +\n",
              "            '<a target=\"_blank\" href=https://colab.research.google.com/notebooks/data_table.ipynb>data table notebook</a>'\n",
              "            + ' to learn more about interactive tables.';\n",
              "          element.innerHTML = '';\n",
              "          dataTable['output_type'] = 'display_data';\n",
              "          await google.colab.output.renderOutput(dataTable, element);\n",
              "          const docLink = document.createElement('div');\n",
              "          docLink.innerHTML = docLinkHtml;\n",
              "          element.appendChild(docLink);\n",
              "        }\n",
              "      </script>\n",
              "    </div>\n",
              "  </div>\n",
              "  "
            ]
          },
          "metadata": {},
          "execution_count": 313
        }
      ],
      "source": [
        "similari2e=pickle.load( open(path+f'/exp_models/mod_i2e_{idx2e}/similari2e.pickle','rb'))\n",
        "similari2e.to_frame().T\n",
        "#e=similari2e.to_frame().T\n",
        "#print(f\"True label of the explained instance (returned by the blackbox model): {clf.predict(e)[0]}\")"
      ]
    },
    {
      "cell_type": "code",
      "execution_count": null,
      "metadata": {
        "id": "Slv70vh1T9Vu"
      },
      "outputs": [],
      "source": [
        "PREDICTION_3 =0\n",
        "\n",
        "## Your confidence in the answer\n",
        "CONFIDENCE_PREDICTION_3= 4 # Change to 0 to 5"
      ]
    },
    {
      "cell_type": "markdown",
      "metadata": {
        "id": "TtU4qqL8T9Vu"
      },
      "source": [
        "# Can you chage the counterfactual example to be more certain that it will be labelled as it suppose to be?"
      ]
    },
    {
      "cell_type": "code",
      "source": [
        "#Counterfactual\n",
        "cf_medoid['counterfactual']"
      ],
      "metadata": {
        "id": "wQOSTmW1n8wU",
        "colab": {
          "base_uri": "https://localhost:8080/"
        },
        "outputId": "318530ae-f77a-4c5d-8b03-26cdc0790cdb"
      },
      "execution_count": null,
      "outputs": [
        {
          "output_type": "execute_result",
          "data": {
            "text/plain": [
              "f_0    0.721479\n",
              "f_1   -0.735303\n",
              "f_2    0.051577\n",
              "f_3   -0.763062\n",
              "f_4    0.236068\n",
              "f_5   -1.050141\n",
              "f_6    0.757495\n",
              "f_7   -0.524448\n",
              "Name: 26, dtype: float64"
            ]
          },
          "metadata": {},
          "execution_count": 38
        }
      ]
    },
    {
      "cell_type": "code",
      "execution_count": null,
      "metadata": {
        "id": "FoYJTe1CT9Vu",
        "colab": {
          "base_uri": "https://localhost:8080/"
        },
        "outputId": "f4d06752-c02d-4664-e71b-25d2f8338f9e"
      },
      "outputs": [
        {
          "output_type": "stream",
          "name": "stdout",
          "text": [
            "True label of counterfactual: 0\n"
          ]
        }
      ],
      "source": [
        "#True class of counterfactual is:\n",
        "print(f\"True label of counterfactual: {clf.predict(cf_medoid['counterfactual'].values.reshape(1,-1))[0]}\")"
      ]
    },
    {
      "cell_type": "code",
      "execution_count": null,
      "metadata": {
        "id": "wr6jpGLwT9Vv"
      },
      "outputs": [],
      "source": [
        "\n",
        "\n",
        "\n",
        "COUNTERFACTUAL_CHANGE_3 = [0.721479, -0.735303, 0.051577, -1.0, 1.0, -1.050141, 0.757495, -0.524448]\n",
        "COUNTERFACTUAL_CHANGE_CLASS_3 = 1 # Change to 0 (The balckbox model will predict 0) or 1 (The blackbox model will predict 1)\n",
        "\n",
        "\n",
        "## Your confidence in the answer\n",
        "CONFIDENCE_CHANGE_COUNTERFACTUAL_3 = 5 # there's no such thing as overconfidence here. I'm scared of running clf.predict()"
      ]
    },
    {
      "cell_type": "markdown",
      "metadata": {
        "id": "0Z3stcg3T9Vv"
      },
      "source": [
        "# Based on the counterfactual explanation above, try to provide additional counterfactual example for the instance"
      ]
    },
    {
      "cell_type": "code",
      "execution_count": null,
      "metadata": {
        "id": "QE3RAv5iT9Vv",
        "colab": {
          "base_uri": "https://localhost:8080/"
        },
        "outputId": "ff8f0468-3db1-44b7-ade9-c93011ad60c3"
      },
      "outputs": [
        {
          "output_type": "execute_result",
          "data": {
            "text/plain": [
              "array([0])"
            ]
          },
          "metadata": {},
          "execution_count": 171
        }
      ],
      "source": [
        "#provide counterfactual for the instance below\n",
        "ex3=pd.DataFrame(i2e[idx2e].reshape(1,-1), columns=features)\n",
        "#probably 0.. based on f_4\n",
        "\n"
      ]
    },
    {
      "cell_type": "code",
      "execution_count": null,
      "metadata": {
        "id": "JiuddPIiT9Vv"
      },
      "outputs": [],
      "source": [
        "COUNTERFACTUAL_NEW_3 =None # Change to [f_0, f_1 ,f_2, f_3,f_4, f_5, f_6, f_7] e.g. [-0.566705\t,-1.793921,\t0.333625,\t-0.610432\t,-0.525247,\t-0.599821,\t-0.657135\t,-0.334803]\n",
        "COUNTERFACTUAL_NEW_CLASS_3 = None # Change to 0 (The balckbox model will predict 0) or 1 (The blackbox model will predict 1)\n",
        "\n",
        "## Your confidence in the answer\n",
        "CONFIDENCE_NEW_COUNTERFACTUAL_3 = None # Change to 0-5"
      ]
    },
    {
      "cell_type": "markdown",
      "metadata": {
        "id": "0UTRKNSGT9Vv"
      },
      "source": [
        "# Question 4\n",
        "You need to obtain explanation of a decision of a balckbox model for an instance below.\n",
        "\n"
      ]
    },
    {
      "cell_type": "code",
      "execution_count": null,
      "metadata": {
        "id": "BRgUTtxUT9Vv",
        "colab": {
          "base_uri": "https://localhost:8080/",
          "height": 81
        },
        "outputId": "3484dee7-534a-4943-9910-a9039fb6f476"
      },
      "outputs": [
        {
          "output_type": "execute_result",
          "data": {
            "text/plain": [
              "       f_0     f_1       f_2       f_3      f_4      f_5       f_6       f_7\n",
              "0 -1.77397 -0.7712  0.057979  1.788569 -0.99022 -0.68605 -0.617212 -0.020099"
            ],
            "text/html": [
              "\n",
              "  <div id=\"df-bc5c96ef-3a22-4d2f-a45c-a2099dec6275\">\n",
              "    <div class=\"colab-df-container\">\n",
              "      <div>\n",
              "<style scoped>\n",
              "    .dataframe tbody tr th:only-of-type {\n",
              "        vertical-align: middle;\n",
              "    }\n",
              "\n",
              "    .dataframe tbody tr th {\n",
              "        vertical-align: top;\n",
              "    }\n",
              "\n",
              "    .dataframe thead th {\n",
              "        text-align: right;\n",
              "    }\n",
              "</style>\n",
              "<table border=\"1\" class=\"dataframe\">\n",
              "  <thead>\n",
              "    <tr style=\"text-align: right;\">\n",
              "      <th></th>\n",
              "      <th>f_0</th>\n",
              "      <th>f_1</th>\n",
              "      <th>f_2</th>\n",
              "      <th>f_3</th>\n",
              "      <th>f_4</th>\n",
              "      <th>f_5</th>\n",
              "      <th>f_6</th>\n",
              "      <th>f_7</th>\n",
              "    </tr>\n",
              "  </thead>\n",
              "  <tbody>\n",
              "    <tr>\n",
              "      <th>0</th>\n",
              "      <td>-1.77397</td>\n",
              "      <td>-0.7712</td>\n",
              "      <td>0.057979</td>\n",
              "      <td>1.788569</td>\n",
              "      <td>-0.99022</td>\n",
              "      <td>-0.68605</td>\n",
              "      <td>-0.617212</td>\n",
              "      <td>-0.020099</td>\n",
              "    </tr>\n",
              "  </tbody>\n",
              "</table>\n",
              "</div>\n",
              "      <button class=\"colab-df-convert\" onclick=\"convertToInteractive('df-bc5c96ef-3a22-4d2f-a45c-a2099dec6275')\"\n",
              "              title=\"Convert this dataframe to an interactive table.\"\n",
              "              style=\"display:none;\">\n",
              "        \n",
              "  <svg xmlns=\"http://www.w3.org/2000/svg\" height=\"24px\"viewBox=\"0 0 24 24\"\n",
              "       width=\"24px\">\n",
              "    <path d=\"M0 0h24v24H0V0z\" fill=\"none\"/>\n",
              "    <path d=\"M18.56 5.44l.94 2.06.94-2.06 2.06-.94-2.06-.94-.94-2.06-.94 2.06-2.06.94zm-11 1L8.5 8.5l.94-2.06 2.06-.94-2.06-.94L8.5 2.5l-.94 2.06-2.06.94zm10 10l.94 2.06.94-2.06 2.06-.94-2.06-.94-.94-2.06-.94 2.06-2.06.94z\"/><path d=\"M17.41 7.96l-1.37-1.37c-.4-.4-.92-.59-1.43-.59-.52 0-1.04.2-1.43.59L10.3 9.45l-7.72 7.72c-.78.78-.78 2.05 0 2.83L4 21.41c.39.39.9.59 1.41.59.51 0 1.02-.2 1.41-.59l7.78-7.78 2.81-2.81c.8-.78.8-2.07 0-2.86zM5.41 20L4 18.59l7.72-7.72 1.47 1.35L5.41 20z\"/>\n",
              "  </svg>\n",
              "      </button>\n",
              "      \n",
              "  <style>\n",
              "    .colab-df-container {\n",
              "      display:flex;\n",
              "      flex-wrap:wrap;\n",
              "      gap: 12px;\n",
              "    }\n",
              "\n",
              "    .colab-df-convert {\n",
              "      background-color: #E8F0FE;\n",
              "      border: none;\n",
              "      border-radius: 50%;\n",
              "      cursor: pointer;\n",
              "      display: none;\n",
              "      fill: #1967D2;\n",
              "      height: 32px;\n",
              "      padding: 0 0 0 0;\n",
              "      width: 32px;\n",
              "    }\n",
              "\n",
              "    .colab-df-convert:hover {\n",
              "      background-color: #E2EBFA;\n",
              "      box-shadow: 0px 1px 2px rgba(60, 64, 67, 0.3), 0px 1px 3px 1px rgba(60, 64, 67, 0.15);\n",
              "      fill: #174EA6;\n",
              "    }\n",
              "\n",
              "    [theme=dark] .colab-df-convert {\n",
              "      background-color: #3B4455;\n",
              "      fill: #D2E3FC;\n",
              "    }\n",
              "\n",
              "    [theme=dark] .colab-df-convert:hover {\n",
              "      background-color: #434B5C;\n",
              "      box-shadow: 0px 1px 3px 1px rgba(0, 0, 0, 0.15);\n",
              "      filter: drop-shadow(0px 1px 2px rgba(0, 0, 0, 0.3));\n",
              "      fill: #FFFFFF;\n",
              "    }\n",
              "  </style>\n",
              "\n",
              "      <script>\n",
              "        const buttonEl =\n",
              "          document.querySelector('#df-bc5c96ef-3a22-4d2f-a45c-a2099dec6275 button.colab-df-convert');\n",
              "        buttonEl.style.display =\n",
              "          google.colab.kernel.accessAllowed ? 'block' : 'none';\n",
              "\n",
              "        async function convertToInteractive(key) {\n",
              "          const element = document.querySelector('#df-bc5c96ef-3a22-4d2f-a45c-a2099dec6275');\n",
              "          const dataTable =\n",
              "            await google.colab.kernel.invokeFunction('convertToInteractive',\n",
              "                                                     [key], {});\n",
              "          if (!dataTable) return;\n",
              "\n",
              "          const docLinkHtml = 'Like what you see? Visit the ' +\n",
              "            '<a target=\"_blank\" href=https://colab.research.google.com/notebooks/data_table.ipynb>data table notebook</a>'\n",
              "            + ' to learn more about interactive tables.';\n",
              "          element.innerHTML = '';\n",
              "          dataTable['output_type'] = 'display_data';\n",
              "          await google.colab.output.renderOutput(dataTable, element);\n",
              "          const docLink = document.createElement('div');\n",
              "          docLink.innerHTML = docLinkHtml;\n",
              "          element.appendChild(docLink);\n",
              "        }\n",
              "      </script>\n",
              "    </div>\n",
              "  </div>\n",
              "  "
            ]
          },
          "metadata": {},
          "execution_count": 304
        }
      ],
      "source": [
        "idx2e=3\n",
        "pd.DataFrame(i2e[idx2e].reshape(1,-1), columns=features)"
      ]
    },
    {
      "cell_type": "code",
      "source": [
        "print(f\"True label of the explained instance (returned by the blackbox model): {clf.predict(i2e[idx2e].reshape(1,-1))[0]}\")"
      ],
      "metadata": {
        "colab": {
          "base_uri": "https://localhost:8080/"
        },
        "id": "YlubG-LZkToH",
        "outputId": "42830261-be52-47e9-fe82-f87f6717f5b4"
      },
      "execution_count": null,
      "outputs": [
        {
          "output_type": "stream",
          "name": "stdout",
          "text": [
            "True label of the explained instance (returned by the blackbox model): 0\n"
          ]
        }
      ]
    },
    {
      "cell_type": "markdown",
      "metadata": {
        "id": "-LVEplftT9Vw"
      },
      "source": [
        "## Textual explanation and counterfactual"
      ]
    },
    {
      "cell_type": "code",
      "execution_count": null,
      "metadata": {
        "id": "TL2XOaAGT9Vw",
        "colab": {
          "base_uri": "https://localhost:8080/"
        },
        "outputId": "9c40b604-deb6-45cf-8f7c-bb08b028ee53"
      },
      "outputs": [
        {
          "output_type": "execute_result",
          "data": {
            "text/plain": [
              "{'f_4': ['< -0.19929116281545256']}"
            ]
          },
          "metadata": {},
          "execution_count": 297
        }
      ],
      "source": [
        "#Explanation\n",
        "lux=pickle.load( open(path+f'/exp_models/mod_i2e_{idx2e}/lux.pickle','rb'))\n",
        "lux.justify(i2e[idx2e].reshape(1,-1),to_dict=True)[0][0]['rule']"
      ]
    },
    {
      "cell_type": "code",
      "source": [
        "#counterfactual\n",
        "cf_medoid = lux.counterfactual(i2e[idx2e].reshape(1,-1), train[features], counterfactual_representative='nearest', topn=1)[0]\n",
        "cf_medoid['rule']"
      ],
      "metadata": {
        "id": "p7Jxn_34dDJY",
        "colab": {
          "base_uri": "https://localhost:8080/"
        },
        "outputId": "d84f2516-6889-4e6d-a569-d525ad2f5d78"
      },
      "execution_count": null,
      "outputs": [
        {
          "output_type": "execute_result",
          "data": {
            "text/plain": [
              "{'f_3': ['>= -0.2458133417403509'], 'f_4': ['>= -0.19929116281545256']}"
            ]
          },
          "metadata": {},
          "execution_count": 298
        }
      ]
    },
    {
      "cell_type": "markdown",
      "metadata": {
        "id": "UVLYfZujT9Vw"
      },
      "source": [
        "# Based on the explanation above, try to predict what will be the model output for the following instance:"
      ]
    },
    {
      "cell_type": "code",
      "execution_count": null,
      "metadata": {
        "id": "nRyfH39JT9Vw",
        "colab": {
          "base_uri": "https://localhost:8080/"
        },
        "outputId": "321b8b07-9c23-491d-f0c9-3b672539690e"
      },
      "outputs": [
        {
          "output_type": "stream",
          "name": "stdout",
          "text": [
            "True label of counterfactual: 1\n"
          ]
        }
      ],
      "source": [
        "similari2e=pickle.load( open(path+f'/exp_models/mod_i2e_{idx2e}/similari2e.pickle','rb'))\n",
        "similari2e.to_frame().T\n",
        "c=similari2e.to_frame().T\n",
        "print(f\"True label of counterfactual: {clf.predict(c.values.reshape(1,-1))[0]}\")"
      ]
    },
    {
      "cell_type": "code",
      "execution_count": null,
      "metadata": {
        "id": "HdSwlQS1T9Vx"
      },
      "outputs": [],
      "source": [
        "PREDICTION_4 = 1 # Change to  0 or 1?\n",
        "\n",
        "\n",
        "CONFIDENCE_PREDICTION_4= 5"
      ]
    },
    {
      "cell_type": "markdown",
      "metadata": {
        "id": "IHSiwhmyT9Vx"
      },
      "source": [
        "# Can you chage the counterfactual example to be more certain that it will be labelled as it suppose to be?"
      ]
    },
    {
      "cell_type": "code",
      "source": [
        "#Counterfactual\n",
        "cf_medoid['counterfactual']\n",
        "cf_medoid['counterfactual']['f_3'] = 0.5  # Change the value of f_3 to satisfy the rule '< -0.2458133417403509'\n",
        "cf_medoid['counterfactual']['f_4'] = 0.5   # Change the value of f_4 to satisfy the rule '>= -0.19929116281545256'\n",
        "cf_medoid['counterfactual']"
      ],
      "metadata": {
        "id": "ASYybRmOn-tz",
        "colab": {
          "base_uri": "https://localhost:8080/"
        },
        "outputId": "5419f1fa-d404-4539-ceb7-a3358f643eee"
      },
      "execution_count": null,
      "outputs": [
        {
          "output_type": "execute_result",
          "data": {
            "text/plain": [
              "f_0   -1.506525\n",
              "f_1   -0.619123\n",
              "f_2   -0.449360\n",
              "f_3    0.500000\n",
              "f_4    0.500000\n",
              "f_5   -1.004291\n",
              "f_6   -1.181982\n",
              "f_7   -1.098409\n",
              "Name: 742, dtype: float64"
            ]
          },
          "metadata": {},
          "execution_count": 227
        }
      ]
    },
    {
      "cell_type": "code",
      "execution_count": null,
      "metadata": {
        "id": "7ykbqN98T9Vx",
        "colab": {
          "base_uri": "https://localhost:8080/"
        },
        "outputId": "409794ce-2d0d-4d27-c8b8-dda445621a63"
      },
      "outputs": [
        {
          "output_type": "stream",
          "name": "stdout",
          "text": [
            "True label of counterfactual: 1\n"
          ]
        }
      ],
      "source": [
        "#True class of counterfactual is:\n",
        "print(f\"True label of counterfactual: {clf.predict(cf_medoid['counterfactual'].values.reshape(1,-1))[0]}\")"
      ]
    },
    {
      "cell_type": "code",
      "execution_count": null,
      "metadata": {
        "id": "Nd9-1ABaT9Vx"
      },
      "outputs": [],
      "source": [
        "COUNTERFACTUAL_CHANGE_4 = [0.849102, 0.695538, 0.002276, -0.500000, 0.500000, -0.293967, -0.071599, -0.387100]\n",
        "COUNTERFACTUAL_CHANGE_CLASS_4 = 1 \n",
        "\n",
        "\n",
        "CONFIDENCE_CHANGE_COUNTERFACTUAL_4 = 5 # it's 1AM, at this point it's all or nothing. Maybe except writing these comments."
      ]
    },
    {
      "cell_type": "markdown",
      "metadata": {
        "id": "lOhDqppUT9Vx"
      },
      "source": [
        "# Based on the counterfactual explanation above, try to provide additional counterfactual example for the instance"
      ]
    },
    {
      "cell_type": "code",
      "execution_count": null,
      "metadata": {
        "id": "V1rOAeyWT9Vx",
        "colab": {
          "base_uri": "https://localhost:8080/"
        },
        "outputId": "4c4c4d20-048a-4143-fb7a-663f6a8e81d7"
      },
      "outputs": [
        {
          "output_type": "stream",
          "name": "stdout",
          "text": [
            "       f_0     f_1       f_2  f_3      f_4      f_5       f_6       f_7\n",
            "0 -1.77397 -0.7712  0.057979 -2.0 -0.99022 -0.68605 -0.617212 -0.020099\n",
            "True label of counterfactual: 1\n"
          ]
        }
      ],
      "source": [
        "#provide counterfactual for the instance below\n",
        "cf_example=pd.DataFrame(i2e[idx2e].reshape(1,-1), columns=features)\n",
        "pd.DataFrame(i2e[idx2e].reshape(1,-1), columns=features)\n",
        "#print(f\"True label of counterfactual: {clf.predict(example.values.reshape(1,-1))[0]}\")\n",
        "#wygląda na zero\n",
        "cf_example['f_3']= -2.0\n",
        "print(cf_example)\n",
        "print(f\"True label of counterfactual: {clf.predict(cf_example.values.reshape(1,-1))[0]}\")"
      ]
    },
    {
      "cell_type": "code",
      "execution_count": null,
      "metadata": {
        "id": "Gh092xwUT9Vx"
      },
      "outputs": [],
      "source": [
        "COUNTERFACTUAL_NEW_4 = [-1.77397 -0.7712  0.057979 -2.0 -0.99022 -0.68605 -0.617212 -0.020099]\n",
        "COUNTERFACTUAL_NEW_CLASS_4 = 1 \n",
        "\n",
        "\n",
        "CONFIDENCE_NEW_COUNTERFACTUAL_4 = 4 "
      ]
    },
    {
      "cell_type": "markdown",
      "metadata": {
        "id": "N9s5l5F2T9Vy"
      },
      "source": [
        "# Question 5\n",
        "You need to obtain explanation of a decision of a balckbox model for an instance below.\n"
      ]
    },
    {
      "cell_type": "code",
      "execution_count": null,
      "metadata": {
        "id": "CVC94Rf_T9Vy",
        "colab": {
          "base_uri": "https://localhost:8080/",
          "height": 81
        },
        "outputId": "16fb936c-1639-40d8-d414-25b280f6af37"
      },
      "outputs": [
        {
          "output_type": "execute_result",
          "data": {
            "text/plain": [
              "        f_0       f_1      f_2       f_3       f_4       f_5       f_6  \\\n",
              "0 -0.916274  0.721135  0.20186 -0.984431 -0.025966  1.355443  1.170199   \n",
              "\n",
              "        f_7  \n",
              "0  0.881408  "
            ],
            "text/html": [
              "\n",
              "  <div id=\"df-22057d60-964e-4a1b-b64e-fef4910257a0\">\n",
              "    <div class=\"colab-df-container\">\n",
              "      <div>\n",
              "<style scoped>\n",
              "    .dataframe tbody tr th:only-of-type {\n",
              "        vertical-align: middle;\n",
              "    }\n",
              "\n",
              "    .dataframe tbody tr th {\n",
              "        vertical-align: top;\n",
              "    }\n",
              "\n",
              "    .dataframe thead th {\n",
              "        text-align: right;\n",
              "    }\n",
              "</style>\n",
              "<table border=\"1\" class=\"dataframe\">\n",
              "  <thead>\n",
              "    <tr style=\"text-align: right;\">\n",
              "      <th></th>\n",
              "      <th>f_0</th>\n",
              "      <th>f_1</th>\n",
              "      <th>f_2</th>\n",
              "      <th>f_3</th>\n",
              "      <th>f_4</th>\n",
              "      <th>f_5</th>\n",
              "      <th>f_6</th>\n",
              "      <th>f_7</th>\n",
              "    </tr>\n",
              "  </thead>\n",
              "  <tbody>\n",
              "    <tr>\n",
              "      <th>0</th>\n",
              "      <td>-0.916274</td>\n",
              "      <td>0.721135</td>\n",
              "      <td>0.20186</td>\n",
              "      <td>-0.984431</td>\n",
              "      <td>-0.025966</td>\n",
              "      <td>1.355443</td>\n",
              "      <td>1.170199</td>\n",
              "      <td>0.881408</td>\n",
              "    </tr>\n",
              "  </tbody>\n",
              "</table>\n",
              "</div>\n",
              "      <button class=\"colab-df-convert\" onclick=\"convertToInteractive('df-22057d60-964e-4a1b-b64e-fef4910257a0')\"\n",
              "              title=\"Convert this dataframe to an interactive table.\"\n",
              "              style=\"display:none;\">\n",
              "        \n",
              "  <svg xmlns=\"http://www.w3.org/2000/svg\" height=\"24px\"viewBox=\"0 0 24 24\"\n",
              "       width=\"24px\">\n",
              "    <path d=\"M0 0h24v24H0V0z\" fill=\"none\"/>\n",
              "    <path d=\"M18.56 5.44l.94 2.06.94-2.06 2.06-.94-2.06-.94-.94-2.06-.94 2.06-2.06.94zm-11 1L8.5 8.5l.94-2.06 2.06-.94-2.06-.94L8.5 2.5l-.94 2.06-2.06.94zm10 10l.94 2.06.94-2.06 2.06-.94-2.06-.94-.94-2.06-.94 2.06-2.06.94z\"/><path d=\"M17.41 7.96l-1.37-1.37c-.4-.4-.92-.59-1.43-.59-.52 0-1.04.2-1.43.59L10.3 9.45l-7.72 7.72c-.78.78-.78 2.05 0 2.83L4 21.41c.39.39.9.59 1.41.59.51 0 1.02-.2 1.41-.59l7.78-7.78 2.81-2.81c.8-.78.8-2.07 0-2.86zM5.41 20L4 18.59l7.72-7.72 1.47 1.35L5.41 20z\"/>\n",
              "  </svg>\n",
              "      </button>\n",
              "      \n",
              "  <style>\n",
              "    .colab-df-container {\n",
              "      display:flex;\n",
              "      flex-wrap:wrap;\n",
              "      gap: 12px;\n",
              "    }\n",
              "\n",
              "    .colab-df-convert {\n",
              "      background-color: #E8F0FE;\n",
              "      border: none;\n",
              "      border-radius: 50%;\n",
              "      cursor: pointer;\n",
              "      display: none;\n",
              "      fill: #1967D2;\n",
              "      height: 32px;\n",
              "      padding: 0 0 0 0;\n",
              "      width: 32px;\n",
              "    }\n",
              "\n",
              "    .colab-df-convert:hover {\n",
              "      background-color: #E2EBFA;\n",
              "      box-shadow: 0px 1px 2px rgba(60, 64, 67, 0.3), 0px 1px 3px 1px rgba(60, 64, 67, 0.15);\n",
              "      fill: #174EA6;\n",
              "    }\n",
              "\n",
              "    [theme=dark] .colab-df-convert {\n",
              "      background-color: #3B4455;\n",
              "      fill: #D2E3FC;\n",
              "    }\n",
              "\n",
              "    [theme=dark] .colab-df-convert:hover {\n",
              "      background-color: #434B5C;\n",
              "      box-shadow: 0px 1px 3px 1px rgba(0, 0, 0, 0.15);\n",
              "      filter: drop-shadow(0px 1px 2px rgba(0, 0, 0, 0.3));\n",
              "      fill: #FFFFFF;\n",
              "    }\n",
              "  </style>\n",
              "\n",
              "      <script>\n",
              "        const buttonEl =\n",
              "          document.querySelector('#df-22057d60-964e-4a1b-b64e-fef4910257a0 button.colab-df-convert');\n",
              "        buttonEl.style.display =\n",
              "          google.colab.kernel.accessAllowed ? 'block' : 'none';\n",
              "\n",
              "        async function convertToInteractive(key) {\n",
              "          const element = document.querySelector('#df-22057d60-964e-4a1b-b64e-fef4910257a0');\n",
              "          const dataTable =\n",
              "            await google.colab.kernel.invokeFunction('convertToInteractive',\n",
              "                                                     [key], {});\n",
              "          if (!dataTable) return;\n",
              "\n",
              "          const docLinkHtml = 'Like what you see? Visit the ' +\n",
              "            '<a target=\"_blank\" href=https://colab.research.google.com/notebooks/data_table.ipynb>data table notebook</a>'\n",
              "            + ' to learn more about interactive tables.';\n",
              "          element.innerHTML = '';\n",
              "          dataTable['output_type'] = 'display_data';\n",
              "          await google.colab.output.renderOutput(dataTable, element);\n",
              "          const docLink = document.createElement('div');\n",
              "          docLink.innerHTML = docLinkHtml;\n",
              "          element.appendChild(docLink);\n",
              "        }\n",
              "      </script>\n",
              "    </div>\n",
              "  </div>\n",
              "  "
            ]
          },
          "metadata": {},
          "execution_count": 282
        }
      ],
      "source": [
        "idx2e=4\n",
        "pd.DataFrame(i2e[idx2e].reshape(1,-1), columns=features)"
      ]
    },
    {
      "cell_type": "code",
      "source": [
        "print(f\"True label of the explained instance (returned by the blackbox model): {clf.predict(i2e[idx2e].reshape(1,-1))[0]}\")"
      ],
      "metadata": {
        "colab": {
          "base_uri": "https://localhost:8080/"
        },
        "id": "aifcr5dqkU4p",
        "outputId": "5f3c7015-3bc8-47d2-8918-c811278b3f20"
      },
      "execution_count": null,
      "outputs": [
        {
          "output_type": "stream",
          "name": "stdout",
          "text": [
            "True label of the explained instance (returned by the blackbox model): 1\n"
          ]
        }
      ]
    },
    {
      "cell_type": "markdown",
      "metadata": {
        "id": "z7-zciXET9Vy"
      },
      "source": [
        "## Textual explanation and counterfactual"
      ]
    },
    {
      "cell_type": "code",
      "execution_count": null,
      "metadata": {
        "id": "6G4wxAmFT9Vy",
        "colab": {
          "base_uri": "https://localhost:8080/"
        },
        "outputId": "7a35096a-6f46-422c-851f-f3463b859fb1"
      },
      "outputs": [
        {
          "output_type": "execute_result",
          "data": {
            "text/plain": [
              "{'f_3': ['< -0.2458133417403509'], 'f_4': ['>= -0.19929116281545256']}"
            ]
          },
          "metadata": {},
          "execution_count": 283
        }
      ],
      "source": [
        "#Explanation\n",
        "lux=pickle.load( open(path+f'/exp_models/mod_i2e_{idx2e}/lux.pickle','rb'))\n",
        "lux.justify(i2e[idx2e].reshape(1,-1),to_dict=True)[0][0]['rule']"
      ]
    },
    {
      "cell_type": "code",
      "source": [
        "#counterfactual\n",
        "cf_medoid = lux.counterfactual(i2e[idx2e].reshape(1,-1), train[features], counterfactual_representative='medoid', topn=1)[0]\n",
        "cf_medoid['rule']"
      ],
      "metadata": {
        "id": "bbT2WMd0dHow",
        "colab": {
          "base_uri": "https://localhost:8080/"
        },
        "outputId": "477379b5-f4a1-4708-edd1-113ffd8a1b6d"
      },
      "execution_count": null,
      "outputs": [
        {
          "output_type": "execute_result",
          "data": {
            "text/plain": [
              "{'f_4': ['< -0.19929116281545256']}"
            ]
          },
          "metadata": {},
          "execution_count": 284
        }
      ]
    },
    {
      "cell_type": "markdown",
      "metadata": {
        "id": "eQfj2ZfaT9Vz"
      },
      "source": [
        "# Based on the explanation above, try to predict what will be the model output for the following instance:"
      ]
    },
    {
      "cell_type": "code",
      "execution_count": null,
      "metadata": {
        "id": "dL-vqkynT9Vz",
        "colab": {
          "base_uri": "https://localhost:8080/"
        },
        "outputId": "4e3f8a93-6caf-47bd-9178-a72e1729aefd"
      },
      "outputs": [
        {
          "output_type": "stream",
          "name": "stdout",
          "text": [
            "True label of the explained instance (returned by the blackbox model): 1\n"
          ]
        }
      ],
      "source": [
        "similari2e=pickle.load( open(path+f'/exp_models/mod_i2e_{idx2e}/similari2e.pickle','rb'))\n",
        "x=similari2e.to_frame().T\n",
        "#nie spełnia wszystkich zależności counterfactual.\n",
        "print(f\"True label of the explained instance (returned by the blackbox model): {clf.predict(x)[0]}\")"
      ]
    },
    {
      "cell_type": "code",
      "execution_count": null,
      "metadata": {
        "id": "ZhV8OzLvT9Vz"
      },
      "outputs": [],
      "source": [
        "PREDICTION_5 = 1 # Change to 0 (The balckbox model will predict 0) or 1 (The blackbox model will predict 1)\n",
        "\n",
        "\n",
        "CONFIDENCE_PREDICTION_5= 4 # Change to 0 to 5"
      ]
    },
    {
      "cell_type": "markdown",
      "metadata": {
        "id": "O0Q3a3K-T9Vz"
      },
      "source": [
        "# Can you chage the counterfactual example to be more certain that it will be labelled as it suppose to be?"
      ]
    },
    {
      "cell_type": "code",
      "source": [
        "#Counterfactual example\n",
        "cf=cf_medoid['counterfactual']\n",
        "print(cf)\n",
        "cf['f_4']=-1.0\n",
        "cf['f_3']=1.0"
      ],
      "metadata": {
        "id": "OUqiUSAIn_2S",
        "colab": {
          "base_uri": "https://localhost:8080/"
        },
        "outputId": "8a960cf1-30b9-47a2-a8df-a6d9178afd57"
      },
      "execution_count": null,
      "outputs": [
        {
          "output_type": "stream",
          "name": "stdout",
          "text": [
            "f_0    0.091752\n",
            "f_1   -0.064188\n",
            "f_2    0.722468\n",
            "f_3    1.000000\n",
            "f_4   -1.000000\n",
            "f_5    0.252240\n",
            "f_6   -0.116229\n",
            "f_7   -0.194697\n",
            "Name: 401, dtype: float64\n"
          ]
        }
      ]
    },
    {
      "cell_type": "code",
      "execution_count": null,
      "metadata": {
        "id": "w2YYgREVT9Vz",
        "colab": {
          "base_uri": "https://localhost:8080/"
        },
        "outputId": "a4d87e1b-4056-45e6-8adc-46c0d6fa47d8"
      },
      "outputs": [
        {
          "output_type": "stream",
          "name": "stdout",
          "text": [
            "True label of counterfactual: 0\n"
          ]
        }
      ],
      "source": [
        "#True class of counterfactual is:\n",
        "print(f\"True label of counterfactual: {clf.predict(cf.values.reshape(1,-1))[0]}\")"
      ]
    },
    {
      "cell_type": "code",
      "execution_count": null,
      "metadata": {
        "id": "Uht6jVCLT9Vz"
      },
      "outputs": [],
      "source": [
        "COUNTERFACTUAL_CHANGE_5 = [0.031759, -0.165081, -0.757164, 1.0,-1.0, 0.075674, -0.432295, -0.143660]\n",
        "COUNTERFACTUAL_CHANGE_CLASS_5 = 0 # Change to 0 (The balckbox model will predict 0) or 1 (The blackbox model will predict 1)\n",
        "\n",
        "\n",
        "## Your confidence in the answer\n",
        "CONFIDENCE_CHANGE_COUNTERFACTUAL_5 =4 "
      ]
    },
    {
      "cell_type": "markdown",
      "metadata": {
        "id": "VqlUiY3hT9Vz"
      },
      "source": [
        "# Based on the counterfactual explanation above, try to provide additional counterfactual example for the instance"
      ]
    },
    {
      "cell_type": "code",
      "execution_count": null,
      "metadata": {
        "id": "k_bGcUeKT9V0",
        "colab": {
          "base_uri": "https://localhost:8080/"
        },
        "outputId": "af892bd7-f592-400a-bf38-c35b8c424f16"
      },
      "outputs": [
        {
          "output_type": "stream",
          "name": "stdout",
          "text": [
            "        f_0       f_1      f_2  f_3  f_4       f_5       f_6       f_7\n",
            "0 -0.916274  0.721135  0.20186  1.0 -1.0  1.355443  1.170199  0.881408\n",
            "True label of counterfactual: 0\n"
          ]
        }
      ],
      "source": [
        "#provide counterfactual for the instance below\n",
        "pd.DataFrame(i2e[idx2e].reshape(1,-1), columns=features)\n",
        "cf2=pd.DataFrame(i2e[idx2e].reshape(1,-1), columns=features)\n",
        "cf2['f_4']=-1.0\n",
        "cf2['f_3']=1.0\n",
        "print(cf2)\n",
        "print(f\"True label of counterfactual: {clf.predict(cf2.values.reshape(1,-1))[0]}\")"
      ]
    },
    {
      "cell_type": "code",
      "execution_count": null,
      "metadata": {
        "id": "vy3P5GZCT9V0"
      },
      "outputs": [],
      "source": [
        "COUNTERFACTUAL_NEW_5 = [-0.916274, 0.721135, 0.20186, 1.0, -1.0, 1.355443, 1.170199, 0.881408]\n",
        "COUNTERFACTUAL_NEW_CLASS_5 = 0\n",
        "\n",
        "## Your confidence in the answer\n",
        "CONFIDENCE_NEW_COUNTERFACTUAL_5 = 5\n"
      ]
    },
    {
      "cell_type": "markdown",
      "metadata": {
        "id": "hzWaiGTET9V0"
      },
      "source": [
        "# The End"
      ]
    },
    {
      "cell_type": "code",
      "source": [
        "end = time.time()\n",
        "elapsed = end-start\n",
        "print(f'Elapsed time: {elapsed}')"
      ],
      "metadata": {
        "colab": {
          "base_uri": "https://localhost:8080/"
        },
        "id": "9ZtoepX7bdSw",
        "outputId": "15089404-4b4f-4469-d99d-43a263eda5b0"
      },
      "execution_count": null,
      "outputs": [
        {
          "output_type": "stream",
          "name": "stdout",
          "text": [
            "Elapsed time: 7003.305446624756\n"
          ]
        }
      ]
    },
    {
      "cell_type": "code",
      "execution_count": null,
      "metadata": {
        "id": "pRFXPwU2T9V0"
      },
      "outputs": [],
      "source": [
        "res1 = [PREDICTION_1 , CONFIDENCE_PREDICTION_1, COUNTERFACTUAL_CHANGE_1 , COUNTERFACTUAL_CHANGE_CLASS_1  , CONFIDENCE_CHANGE_COUNTERFACTUAL_1 , COUNTERFACTUAL_NEW_1 , COUNTERFACTUAL_NEW_CLASS_1  , CONFIDENCE_NEW_COUNTERFACTUAL_1]\n",
        "res2 = [PREDICTION_2 , CONFIDENCE_PREDICTION_2, COUNTERFACTUAL_CHANGE_2 , COUNTERFACTUAL_CHANGE_CLASS_2  , CONFIDENCE_CHANGE_COUNTERFACTUAL_2 , COUNTERFACTUAL_NEW_2 , COUNTERFACTUAL_NEW_CLASS_2  , CONFIDENCE_NEW_COUNTERFACTUAL_2]\n",
        "res3 = [PREDICTION_3 , CONFIDENCE_PREDICTION_3, COUNTERFACTUAL_CHANGE_3 , COUNTERFACTUAL_CHANGE_CLASS_3  , CONFIDENCE_CHANGE_COUNTERFACTUAL_3 , COUNTERFACTUAL_NEW_3 , COUNTERFACTUAL_NEW_CLASS_3  , CONFIDENCE_NEW_COUNTERFACTUAL_3]\n",
        "res4 = [PREDICTION_4 , CONFIDENCE_PREDICTION_4, COUNTERFACTUAL_CHANGE_4 , COUNTERFACTUAL_CHANGE_CLASS_4  , CONFIDENCE_CHANGE_COUNTERFACTUAL_4 , COUNTERFACTUAL_NEW_4 , COUNTERFACTUAL_NEW_CLASS_4  , CONFIDENCE_NEW_COUNTERFACTUAL_4]\n",
        "res5 = [PREDICTION_5 , CONFIDENCE_PREDICTION_5, COUNTERFACTUAL_CHANGE_5 , COUNTERFACTUAL_CHANGE_CLASS_5  , CONFIDENCE_CHANGE_COUNTERFACTUAL_5 , COUNTERFACTUAL_NEW_5 , COUNTERFACTUAL_NEW_CLASS_5  , CONFIDENCE_NEW_COUNTERFACTUAL_5]"
      ]
    },
    {
      "cell_type": "markdown",
      "source": [
        "## Make sure you have answered all the questiones"
      ],
      "metadata": {
        "id": "iWgLdn8kd9GD"
      }
    },
    {
      "cell_type": "code",
      "execution_count": null,
      "metadata": {
        "id": "Eo9px8mmT9V0",
        "colab": {
          "base_uri": "https://localhost:8080/"
        },
        "outputId": "bd02bc42-20a2-46e4-9160-eaeec019a1d4"
      },
      "outputs": [
        {
          "output_type": "execute_result",
          "data": {
            "text/plain": [
              "0    5\n",
              "1    5\n",
              "2    4\n",
              "3    4\n",
              "4    4\n",
              "5    4\n",
              "6    4\n",
              "7    4\n",
              "dtype: int64"
            ]
          },
          "metadata": {},
          "execution_count": 295
        }
      ],
      "source": [
        "final = pd.DataFrame([res1,res2,res3,res4,res5])\n",
        "#Missing answers in questions:\n",
        "final.isna().sum()"
      ]
    },
    {
      "cell_type": "markdown",
      "source": [
        "## Download the file and upload to: https://forms.office.com/e/C6jEu5j46p"
      ],
      "metadata": {
        "id": "B3jv0IItYvUs"
      }
    },
    {
      "cell_type": "code",
      "execution_count": null,
      "metadata": {
        "id": "zZq992uhT9V0",
        "colab": {
          "base_uri": "https://localhost:8080/",
          "height": 17
        },
        "outputId": "846aeed0-f22b-4d7b-87ec-cf7d16a3a3db"
      },
      "outputs": [
        {
          "output_type": "display_data",
          "data": {
            "text/plain": [
              "<IPython.core.display.Javascript object>"
            ],
            "application/javascript": [
              "\n",
              "    async function download(id, filename, size) {\n",
              "      if (!google.colab.kernel.accessAllowed) {\n",
              "        return;\n",
              "      }\n",
              "      const div = document.createElement('div');\n",
              "      const label = document.createElement('label');\n",
              "      label.textContent = `Downloading \"${filename}\": `;\n",
              "      div.appendChild(label);\n",
              "      const progress = document.createElement('progress');\n",
              "      progress.max = size;\n",
              "      div.appendChild(progress);\n",
              "      document.body.appendChild(div);\n",
              "\n",
              "      const buffers = [];\n",
              "      let downloaded = 0;\n",
              "\n",
              "      const channel = await google.colab.kernel.comms.open(id);\n",
              "      // Send a message to notify the kernel that we're ready.\n",
              "      channel.send({})\n",
              "\n",
              "      for await (const message of channel.messages) {\n",
              "        // Send a message to notify the kernel that we're ready.\n",
              "        channel.send({})\n",
              "        if (message.buffers) {\n",
              "          for (const buffer of message.buffers) {\n",
              "            buffers.push(buffer);\n",
              "            downloaded += buffer.byteLength;\n",
              "            progress.value = downloaded;\n",
              "          }\n",
              "        }\n",
              "      }\n",
              "      const blob = new Blob(buffers, {type: 'application/binary'});\n",
              "      const a = document.createElement('a');\n",
              "      a.href = window.URL.createObjectURL(blob);\n",
              "      a.download = filename;\n",
              "      div.appendChild(a);\n",
              "      a.click();\n",
              "      div.remove();\n",
              "    }\n",
              "  "
            ]
          },
          "metadata": {}
        },
        {
          "output_type": "display_data",
          "data": {
            "text/plain": [
              "<IPython.core.display.Javascript object>"
            ],
            "application/javascript": [
              "download(\"download_13211c90-d311-40a3-ab0b-57145010fc6e\", \"final.xls\", 67)"
            ]
          },
          "metadata": {}
        }
      ],
      "source": [
        "from google.colab import files\n",
        "final.to_csv('final.xls') \n",
        "files.download('final.xls')"
      ]
    },
    {
      "cell_type": "code",
      "execution_count": null,
      "metadata": {
        "id": "TxUlwEUrT9V1"
      },
      "outputs": [],
      "source": []
    },
    {
      "cell_type": "code",
      "execution_count": null,
      "metadata": {
        "id": "H2-cxz_AT9V1"
      },
      "outputs": [],
      "source": []
    },
    {
      "cell_type": "code",
      "execution_count": null,
      "metadata": {
        "id": "mAQILB3vT9V1"
      },
      "outputs": [],
      "source": []
    },
    {
      "cell_type": "code",
      "execution_count": null,
      "metadata": {
        "id": "oZ5xODaYT9V1"
      },
      "outputs": [],
      "source": []
    },
    {
      "cell_type": "code",
      "execution_count": null,
      "metadata": {
        "id": "nt1TknATT9V1"
      },
      "outputs": [],
      "source": []
    },
    {
      "cell_type": "code",
      "execution_count": null,
      "metadata": {
        "id": "XgfymJTYT9V1"
      },
      "outputs": [],
      "source": []
    },
    {
      "cell_type": "code",
      "execution_count": null,
      "metadata": {
        "id": "ZKx_Zb8UT9V1"
      },
      "outputs": [],
      "source": []
    },
    {
      "cell_type": "code",
      "execution_count": null,
      "metadata": {
        "id": "WKha1NwNT9V1"
      },
      "outputs": [],
      "source": []
    },
    {
      "cell_type": "code",
      "execution_count": null,
      "metadata": {
        "id": "FAp7zaAWT9V1"
      },
      "outputs": [],
      "source": []
    },
    {
      "cell_type": "code",
      "execution_count": null,
      "metadata": {
        "id": "fw35HN6RT9V1"
      },
      "outputs": [],
      "source": []
    },
    {
      "cell_type": "code",
      "execution_count": null,
      "metadata": {
        "id": "hFm4coquT9V2"
      },
      "outputs": [],
      "source": []
    },
    {
      "cell_type": "code",
      "execution_count": null,
      "metadata": {
        "id": "5SAdRAznT9V2"
      },
      "outputs": [],
      "source": []
    },
    {
      "cell_type": "code",
      "execution_count": null,
      "metadata": {
        "id": "X0ZitzThT9V2"
      },
      "outputs": [],
      "source": []
    }
  ],
  "metadata": {
    "colab": {
      "provenance": []
    },
    "kernelspec": {
      "display_name": "Python 3 (ipykernel)",
      "language": "python",
      "name": "python3"
    },
    "language_info": {
      "codemirror_mode": {
        "name": "ipython",
        "version": 3
      },
      "file_extension": ".py",
      "mimetype": "text/x-python",
      "name": "python",
      "nbconvert_exporter": "python",
      "pygments_lexer": "ipython3",
      "version": "3.8.13"
    }
  },
  "nbformat": 4,
  "nbformat_minor": 0
}
